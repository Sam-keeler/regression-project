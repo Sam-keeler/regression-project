{
 "cells": [
  {
   "cell_type": "markdown",
   "metadata": {},
   "source": [
    "## Importing necessary packages"
   ]
  },
  {
   "cell_type": "code",
   "execution_count": 1,
   "metadata": {},
   "outputs": [],
   "source": [
    "import matplotlib.pyplot as plt\n",
    "import numpy as np\n",
    "import pandas as pd\n",
    "from scipy import stats\n",
    "from datetime import date\n",
    "import seaborn as sns\n",
    "from pydataset import data\n",
    "from env import host, user, password\n",
    "import os\n",
    "from sklearn.feature_selection import SelectKBest, f_regression\n",
    "import sklearn.preprocessing\n",
    "from sklearn.feature_selection import RFE\n",
    "from sklearn.model_selection import train_test_split\n",
    "from sklearn.linear_model import LassoLars\n",
    "from sklearn.metrics import mean_squared_error\n",
    "from sklearn.linear_model import LinearRegression, LassoLars, TweedieRegressor\n",
    "from sklearn.preprocessing import PolynomialFeatures\n",
    "import warnings\n",
    "warnings.filterwarnings(\"ignore\")"
   ]
  },
  {
   "cell_type": "markdown",
   "metadata": {},
   "source": [
    "## Acquiring data"
   ]
  },
  {
   "cell_type": "code",
   "execution_count": 2,
   "metadata": {},
   "outputs": [],
   "source": [
    "def get_zillow_data(host = host, user = user, password = password):\n",
    "    filename = 'zillow.csv'\n",
    "    if os.path.isfile(filename):\n",
    "        return pd.read_csv(filename)\n",
    "    else:\n",
    "        db = 'zillow'\n",
    "        df = pd.read_sql('SELECT taxamount, lotsizesquarefeet, yearbuilt, fips, taxvaluedollarcnt, calculatedfinishedsquarefeet, bathroomcnt, bedroomcnt, propertylandusetypeid, transactiondate FROM properties_2017 JOIN predictions_2017 USING(id) WHERE  propertylandusetypeid IN (261, 262, 263, 273, 275, 276, 279) AND transactiondate >= \\'2017-05-01\\' AND transactiondate <= \\'2017-08-31\\'', f'mysql+pymysql://{user}:{password}@{host}/{db}')\n",
    "        df.to_csv(filename, index = False)\n",
    "        return df\n"
   ]
  },
  {
   "cell_type": "code",
   "execution_count": 50,
   "metadata": {},
   "outputs": [],
   "source": [
    "zillow = get_zillow_data()"
   ]
  },
  {
   "cell_type": "markdown",
   "metadata": {},
   "source": [
    "## Prepping the data"
   ]
  },
  {
   "cell_type": "code",
   "execution_count": 51,
   "metadata": {},
   "outputs": [],
   "source": [
    "zillow['age'] = 2021 - zillow.yearbuilt\n",
    "zillow.drop(columns = ['propertylandusetypeid', 'transactiondate', 'yearbuilt'], inplace = True)\n",
    "zillow.fips.replace({6037: 'Los Angeles', 6059: 'Orange', 6111: 'Ventura'}, inplace = True)\n",
    "zillow.rename(columns = {'fips': 'county'}, inplace = True)\n",
    "zillow['tax_rate'] = round((zillow.taxamount / zillow.taxvaluedollarcnt) * 100, 2)"
   ]
  },
  {
   "cell_type": "code",
   "execution_count": 52,
   "metadata": {},
   "outputs": [],
   "source": [
    "zillow.dropna(inplace = True)"
   ]
  },
  {
   "cell_type": "code",
   "execution_count": 53,
   "metadata": {},
   "outputs": [
    {
     "name": "stdout",
     "output_type": "stream",
     "text": [
      "<class 'pandas.core.frame.DataFrame'>\n",
      "Int64Index: 30373 entries, 0 to 31208\n",
      "Data columns (total 9 columns):\n",
      " #   Column                        Non-Null Count  Dtype  \n",
      "---  ------                        --------------  -----  \n",
      " 0   taxamount                     30373 non-null  float64\n",
      " 1   lotsizesquarefeet             30373 non-null  float64\n",
      " 2   county                        30373 non-null  object \n",
      " 3   taxvaluedollarcnt             30373 non-null  float64\n",
      " 4   calculatedfinishedsquarefeet  30373 non-null  float64\n",
      " 5   bathroomcnt                   30373 non-null  float64\n",
      " 6   bedroomcnt                    30373 non-null  float64\n",
      " 7   age                           30373 non-null  float64\n",
      " 8   tax_rate                      30373 non-null  float64\n",
      "dtypes: float64(8), object(1)\n",
      "memory usage: 2.3+ MB\n"
     ]
    }
   ],
   "source": [
    "zillow.info()"
   ]
  },
  {
   "cell_type": "code",
   "execution_count": 54,
   "metadata": {},
   "outputs": [
    {
     "data": {
      "text/plain": [
       "taxamount                       2748\n",
       "lotsizesquarefeet               2748\n",
       "county                          2748\n",
       "taxvaluedollarcnt               2748\n",
       "calculatedfinishedsquarefeet    2748\n",
       "bathroomcnt                     2748\n",
       "bedroomcnt                      2748\n",
       "age                             2748\n",
       "tax_rate                        2748\n",
       "dtype: int64"
      ]
     },
     "execution_count": 54,
     "metadata": {},
     "output_type": "execute_result"
    }
   ],
   "source": [
    "Q1 = zillow['taxvaluedollarcnt'].quantile(0.25)\n",
    "Q3 = zillow['taxvaluedollarcnt'].quantile(0.75)\n",
    "IQR = Q3 - Q1\n",
    "\n",
    "zillow[zillow.taxvaluedollarcnt > (Q3 + IQR)].count()"
   ]
  },
  {
   "cell_type": "code",
   "execution_count": 55,
   "metadata": {},
   "outputs": [],
   "source": [
    "zillow_no_out = zillow[(zillow.taxvaluedollarcnt < (Q3 + IQR)) & (zillow.taxvaluedollarcnt > (Q1 - IQR))]"
   ]
  },
  {
   "cell_type": "code",
   "execution_count": 56,
   "metadata": {},
   "outputs": [
    {
     "data": {
      "text/plain": [
       "taxamount                       3632\n",
       "lotsizesquarefeet               3632\n",
       "county                          3632\n",
       "taxvaluedollarcnt               3632\n",
       "calculatedfinishedsquarefeet    3632\n",
       "bathroomcnt                     3632\n",
       "bedroomcnt                      3632\n",
       "age                             3632\n",
       "tax_rate                        3632\n",
       "dtype: int64"
      ]
     },
     "execution_count": 56,
     "metadata": {},
     "output_type": "execute_result"
    }
   ],
   "source": [
    "Q1 = zillow_no_out['tax_rate'].quantile(0.25)\n",
    "Q3 = zillow_no_out['tax_rate'].quantile(0.75)\n",
    "IQR = Q3 - Q1\n",
    "\n",
    "zillow_no_out[zillow_no_out.tax_rate > (Q3 + IQR)].count()"
   ]
  },
  {
   "cell_type": "code",
   "execution_count": 57,
   "metadata": {},
   "outputs": [],
   "source": [
    "zillow_no_out = zillow_no_out[(zillow_no_out.tax_rate < (Q3 + IQR)) & (zillow_no_out.tax_rate > (Q1 - IQR))]"
   ]
  },
  {
   "cell_type": "code",
   "execution_count": 11,
   "metadata": {},
   "outputs": [],
   "source": [
    "train, test = train_test_split(zillow_no_out, test_size=.2, random_state=123)\n",
    "train, validate = train_test_split(train, test_size=.3, random_state=123)"
   ]
  },
  {
   "cell_type": "markdown",
   "metadata": {},
   "source": [
    "## Explore"
   ]
  },
  {
   "cell_type": "code",
   "execution_count": 12,
   "metadata": {},
   "outputs": [
    {
     "data": {
      "text/html": [
       "<div>\n",
       "<style scoped>\n",
       "    .dataframe tbody tr th:only-of-type {\n",
       "        vertical-align: middle;\n",
       "    }\n",
       "\n",
       "    .dataframe tbody tr th {\n",
       "        vertical-align: top;\n",
       "    }\n",
       "\n",
       "    .dataframe thead th {\n",
       "        text-align: right;\n",
       "    }\n",
       "</style>\n",
       "<table border=\"1\" class=\"dataframe\">\n",
       "  <thead>\n",
       "    <tr style=\"text-align: right;\">\n",
       "      <th></th>\n",
       "      <th>taxamount</th>\n",
       "      <th>lotsizesquarefeet</th>\n",
       "      <th>county</th>\n",
       "      <th>taxvaluedollarcnt</th>\n",
       "      <th>calculatedfinishedsquarefeet</th>\n",
       "      <th>bathroomcnt</th>\n",
       "      <th>bedroomcnt</th>\n",
       "      <th>age</th>\n",
       "      <th>tax_rate</th>\n",
       "    </tr>\n",
       "  </thead>\n",
       "  <tbody>\n",
       "    <tr>\n",
       "      <th>19230</th>\n",
       "      <td>7016.12</td>\n",
       "      <td>8000.0</td>\n",
       "      <td>Orange</td>\n",
       "      <td>652425.0</td>\n",
       "      <td>2472.0</td>\n",
       "      <td>3.0</td>\n",
       "      <td>5.0</td>\n",
       "      <td>59.0</td>\n",
       "      <td>1.08</td>\n",
       "    </tr>\n",
       "    <tr>\n",
       "      <th>29369</th>\n",
       "      <td>7940.28</td>\n",
       "      <td>11919.0</td>\n",
       "      <td>Orange</td>\n",
       "      <td>663973.0</td>\n",
       "      <td>2255.0</td>\n",
       "      <td>3.0</td>\n",
       "      <td>4.0</td>\n",
       "      <td>96.0</td>\n",
       "      <td>1.20</td>\n",
       "    </tr>\n",
       "    <tr>\n",
       "      <th>12785</th>\n",
       "      <td>1567.46</td>\n",
       "      <td>7048.0</td>\n",
       "      <td>Los Angeles</td>\n",
       "      <td>118002.0</td>\n",
       "      <td>1929.0</td>\n",
       "      <td>2.0</td>\n",
       "      <td>3.0</td>\n",
       "      <td>70.0</td>\n",
       "      <td>1.33</td>\n",
       "    </tr>\n",
       "    <tr>\n",
       "      <th>13615</th>\n",
       "      <td>2701.57</td>\n",
       "      <td>6511.0</td>\n",
       "      <td>Los Angeles</td>\n",
       "      <td>185679.0</td>\n",
       "      <td>816.0</td>\n",
       "      <td>1.0</td>\n",
       "      <td>2.0</td>\n",
       "      <td>97.0</td>\n",
       "      <td>1.45</td>\n",
       "    </tr>\n",
       "    <tr>\n",
       "      <th>28147</th>\n",
       "      <td>4864.56</td>\n",
       "      <td>13314.0</td>\n",
       "      <td>Los Angeles</td>\n",
       "      <td>413366.0</td>\n",
       "      <td>1510.0</td>\n",
       "      <td>2.0</td>\n",
       "      <td>3.0</td>\n",
       "      <td>63.0</td>\n",
       "      <td>1.18</td>\n",
       "    </tr>\n",
       "    <tr>\n",
       "      <th>...</th>\n",
       "      <td>...</td>\n",
       "      <td>...</td>\n",
       "      <td>...</td>\n",
       "      <td>...</td>\n",
       "      <td>...</td>\n",
       "      <td>...</td>\n",
       "      <td>...</td>\n",
       "      <td>...</td>\n",
       "      <td>...</td>\n",
       "    </tr>\n",
       "    <tr>\n",
       "      <th>9210</th>\n",
       "      <td>5965.52</td>\n",
       "      <td>6450.0</td>\n",
       "      <td>Ventura</td>\n",
       "      <td>476000.0</td>\n",
       "      <td>1992.0</td>\n",
       "      <td>2.0</td>\n",
       "      <td>3.0</td>\n",
       "      <td>20.0</td>\n",
       "      <td>1.25</td>\n",
       "    </tr>\n",
       "    <tr>\n",
       "      <th>4939</th>\n",
       "      <td>2706.93</td>\n",
       "      <td>15896.0</td>\n",
       "      <td>Los Angeles</td>\n",
       "      <td>218458.0</td>\n",
       "      <td>2960.0</td>\n",
       "      <td>5.0</td>\n",
       "      <td>4.0</td>\n",
       "      <td>92.0</td>\n",
       "      <td>1.24</td>\n",
       "    </tr>\n",
       "    <tr>\n",
       "      <th>12867</th>\n",
       "      <td>8149.57</td>\n",
       "      <td>2500.0</td>\n",
       "      <td>Los Angeles</td>\n",
       "      <td>666568.0</td>\n",
       "      <td>1767.0</td>\n",
       "      <td>2.0</td>\n",
       "      <td>3.0</td>\n",
       "      <td>46.0</td>\n",
       "      <td>1.22</td>\n",
       "    </tr>\n",
       "    <tr>\n",
       "      <th>23556</th>\n",
       "      <td>4787.13</td>\n",
       "      <td>9567.0</td>\n",
       "      <td>Los Angeles</td>\n",
       "      <td>335000.0</td>\n",
       "      <td>2469.0</td>\n",
       "      <td>3.0</td>\n",
       "      <td>4.0</td>\n",
       "      <td>32.0</td>\n",
       "      <td>1.43</td>\n",
       "    </tr>\n",
       "    <tr>\n",
       "      <th>26045</th>\n",
       "      <td>4220.79</td>\n",
       "      <td>5379.0</td>\n",
       "      <td>Los Angeles</td>\n",
       "      <td>323071.0</td>\n",
       "      <td>1096.0</td>\n",
       "      <td>1.0</td>\n",
       "      <td>3.0</td>\n",
       "      <td>81.0</td>\n",
       "      <td>1.31</td>\n",
       "    </tr>\n",
       "  </tbody>\n",
       "</table>\n",
       "<p>13126 rows × 9 columns</p>\n",
       "</div>"
      ],
      "text/plain": [
       "       taxamount  lotsizesquarefeet       county  taxvaluedollarcnt  \\\n",
       "19230    7016.12             8000.0       Orange           652425.0   \n",
       "29369    7940.28            11919.0       Orange           663973.0   \n",
       "12785    1567.46             7048.0  Los Angeles           118002.0   \n",
       "13615    2701.57             6511.0  Los Angeles           185679.0   \n",
       "28147    4864.56            13314.0  Los Angeles           413366.0   \n",
       "...          ...                ...          ...                ...   \n",
       "9210     5965.52             6450.0      Ventura           476000.0   \n",
       "4939     2706.93            15896.0  Los Angeles           218458.0   \n",
       "12867    8149.57             2500.0  Los Angeles           666568.0   \n",
       "23556    4787.13             9567.0  Los Angeles           335000.0   \n",
       "26045    4220.79             5379.0  Los Angeles           323071.0   \n",
       "\n",
       "       calculatedfinishedsquarefeet  bathroomcnt  bedroomcnt   age  tax_rate  \n",
       "19230                        2472.0          3.0         5.0  59.0      1.08  \n",
       "29369                        2255.0          3.0         4.0  96.0      1.20  \n",
       "12785                        1929.0          2.0         3.0  70.0      1.33  \n",
       "13615                         816.0          1.0         2.0  97.0      1.45  \n",
       "28147                        1510.0          2.0         3.0  63.0      1.18  \n",
       "...                             ...          ...         ...   ...       ...  \n",
       "9210                         1992.0          2.0         3.0  20.0      1.25  \n",
       "4939                         2960.0          5.0         4.0  92.0      1.24  \n",
       "12867                        1767.0          2.0         3.0  46.0      1.22  \n",
       "23556                        2469.0          3.0         4.0  32.0      1.43  \n",
       "26045                        1096.0          1.0         3.0  81.0      1.31  \n",
       "\n",
       "[13126 rows x 9 columns]"
      ]
     },
     "execution_count": 12,
     "metadata": {},
     "output_type": "execute_result"
    }
   ],
   "source": [
    "train"
   ]
  },
  {
   "cell_type": "code",
   "execution_count": 13,
   "metadata": {},
   "outputs": [
    {
     "data": {
      "text/html": [
       "<div>\n",
       "<style scoped>\n",
       "    .dataframe tbody tr th:only-of-type {\n",
       "        vertical-align: middle;\n",
       "    }\n",
       "\n",
       "    .dataframe tbody tr th {\n",
       "        vertical-align: top;\n",
       "    }\n",
       "\n",
       "    .dataframe thead th {\n",
       "        text-align: right;\n",
       "    }\n",
       "</style>\n",
       "<table border=\"1\" class=\"dataframe\">\n",
       "  <thead>\n",
       "    <tr style=\"text-align: right;\">\n",
       "      <th></th>\n",
       "      <th>taxamount</th>\n",
       "      <th>lotsizesquarefeet</th>\n",
       "      <th>taxvaluedollarcnt</th>\n",
       "      <th>calculatedfinishedsquarefeet</th>\n",
       "      <th>bathroomcnt</th>\n",
       "      <th>bedroomcnt</th>\n",
       "      <th>age</th>\n",
       "      <th>tax_rate</th>\n",
       "    </tr>\n",
       "    <tr>\n",
       "      <th>county</th>\n",
       "      <th></th>\n",
       "      <th></th>\n",
       "      <th></th>\n",
       "      <th></th>\n",
       "      <th></th>\n",
       "      <th></th>\n",
       "      <th></th>\n",
       "      <th></th>\n",
       "    </tr>\n",
       "  </thead>\n",
       "  <tbody>\n",
       "    <tr>\n",
       "      <th>Los Angeles</th>\n",
       "      <td>8895</td>\n",
       "      <td>8895</td>\n",
       "      <td>8895</td>\n",
       "      <td>8895</td>\n",
       "      <td>8895</td>\n",
       "      <td>8895</td>\n",
       "      <td>8895</td>\n",
       "      <td>8895</td>\n",
       "    </tr>\n",
       "    <tr>\n",
       "      <th>Orange</th>\n",
       "      <td>3426</td>\n",
       "      <td>3426</td>\n",
       "      <td>3426</td>\n",
       "      <td>3426</td>\n",
       "      <td>3426</td>\n",
       "      <td>3426</td>\n",
       "      <td>3426</td>\n",
       "      <td>3426</td>\n",
       "    </tr>\n",
       "    <tr>\n",
       "      <th>Ventura</th>\n",
       "      <td>805</td>\n",
       "      <td>805</td>\n",
       "      <td>805</td>\n",
       "      <td>805</td>\n",
       "      <td>805</td>\n",
       "      <td>805</td>\n",
       "      <td>805</td>\n",
       "      <td>805</td>\n",
       "    </tr>\n",
       "  </tbody>\n",
       "</table>\n",
       "</div>"
      ],
      "text/plain": [
       "             taxamount  lotsizesquarefeet  taxvaluedollarcnt  \\\n",
       "county                                                         \n",
       "Los Angeles       8895               8895               8895   \n",
       "Orange            3426               3426               3426   \n",
       "Ventura            805                805                805   \n",
       "\n",
       "             calculatedfinishedsquarefeet  bathroomcnt  bedroomcnt   age  \\\n",
       "county                                                                     \n",
       "Los Angeles                          8895         8895        8895  8895   \n",
       "Orange                               3426         3426        3426  3426   \n",
       "Ventura                               805          805         805   805   \n",
       "\n",
       "             tax_rate  \n",
       "county                 \n",
       "Los Angeles      8895  \n",
       "Orange           3426  \n",
       "Ventura           805  "
      ]
     },
     "execution_count": 13,
     "metadata": {},
     "output_type": "execute_result"
    }
   ],
   "source": [
    "train.groupby('county').count()"
   ]
  },
  {
   "cell_type": "code",
   "execution_count": 14,
   "metadata": {},
   "outputs": [
    {
     "data": {
      "text/plain": [
       "<AxesSubplot:>"
      ]
     },
     "execution_count": 14,
     "metadata": {},
     "output_type": "execute_result"
    },
    {
     "data": {
      "image/png": "[encoded data removed]",
      "text/plain": [
       "<Figure size 432x288 with 1 Axes>"
      ]
     },
     "metadata": {
      "needs_background": "light"
     },
     "output_type": "display_data"
    }
   ],
   "source": [
    "train.calculatedfinishedsquarefeet.hist()"
   ]
  },
  {
   "cell_type": "code",
   "execution_count": 15,
   "metadata": {},
   "outputs": [
    {
     "data": {
      "text/plain": [
       "<AxesSubplot:>"
      ]
     },
     "execution_count": 15,
     "metadata": {},
     "output_type": "execute_result"
    },
    {
     "data": {
      "image/png": "[encoded data removed]",
      "text/plain": [
       "<Figure size 432x288 with 1 Axes>"
      ]
     },
     "metadata": {
      "needs_background": "light"
     },
     "output_type": "display_data"
    }
   ],
   "source": [
    "train.bathroomcnt.hist()"
   ]
  },
  {
   "cell_type": "code",
   "execution_count": 16,
   "metadata": {},
   "outputs": [
    {
     "data": {
      "text/plain": [
       "<AxesSubplot:>"
      ]
     },
     "execution_count": 16,
     "metadata": {},
     "output_type": "execute_result"
    },
    {
     "data": {
      "image/png": "[encoded data removed]",
      "text/plain": [
       "<Figure size 432x288 with 1 Axes>"
      ]
     },
     "metadata": {
      "needs_background": "light"
     },
     "output_type": "display_data"
    }
   ],
   "source": [
    "train.bedroomcnt.hist()"
   ]
  },
  {
   "cell_type": "code",
   "execution_count": 17,
   "metadata": {},
   "outputs": [
    {
     "data": {
      "text/plain": [
       "<AxesSubplot:>"
      ]
     },
     "execution_count": 17,
     "metadata": {},
     "output_type": "execute_result"
    },
    {
     "data": {
      "image/png": "[encoded data removed]",
      "text/plain": [
       "<Figure size 432x288 with 1 Axes>"
      ]
     },
     "metadata": {
      "needs_background": "light"
     },
     "output_type": "display_data"
    }
   ],
   "source": [
    "train.taxvaluedollarcnt.hist()"
   ]
  },
  {
   "cell_type": "code",
   "execution_count": 18,
   "metadata": {},
   "outputs": [
    {
     "data": {
      "text/plain": [
       "<AxesSubplot:xlabel='taxvaluedollarcnt'>"
      ]
     },
     "execution_count": 18,
     "metadata": {},
     "output_type": "execute_result"
    },
    {
     "data": {
      "image/png": "[encoded data removed]",
      "text/plain": [
       "<Figure size 432x288 with 1 Axes>"
      ]
     },
     "metadata": {
      "needs_background": "light"
     },
     "output_type": "display_data"
    }
   ],
   "source": [
    "sns.boxplot(train.taxvaluedollarcnt)"
   ]
  },
  {
   "cell_type": "code",
   "execution_count": 19,
   "metadata": {},
   "outputs": [
    {
     "data": {
      "text/plain": [
       "<AxesSubplot:xlabel='bedroomcnt'>"
      ]
     },
     "execution_count": 19,
     "metadata": {},
     "output_type": "execute_result"
    },
    {
     "data": {
      "image/png": "[encoded data removed]",
      "text/plain": [
       "<Figure size 432x288 with 1 Axes>"
      ]
     },
     "metadata": {
      "needs_background": "light"
     },
     "output_type": "display_data"
    }
   ],
   "source": [
    "train.groupby('bedroomcnt').taxvaluedollarcnt.mean().plot.bar()"
   ]
  },
  {
   "cell_type": "code",
   "execution_count": 20,
   "metadata": {},
   "outputs": [
    {
     "data": {
      "text/plain": [
       "<AxesSubplot:xlabel='bathroomcnt'>"
      ]
     },
     "execution_count": 20,
     "metadata": {},
     "output_type": "execute_result"
    },
    {
     "data": {
      "image/png": "[encoded data removed]",
      "text/plain": [
       "<Figure size 432x288 with 1 Axes>"
      ]
     },
     "metadata": {
      "needs_background": "light"
     },
     "output_type": "display_data"
    }
   ],
   "source": [
    "train.groupby('bathroomcnt').taxvaluedollarcnt.mean().plot.bar()"
   ]
  },
  {
   "cell_type": "code",
   "execution_count": 21,
   "metadata": {},
   "outputs": [
    {
     "data": {
      "text/plain": [
       "<AxesSubplot:xlabel='calculatedfinishedsquarefeet', ylabel='taxvaluedollarcnt'>"
      ]
     },
     "execution_count": 21,
     "metadata": {},
     "output_type": "execute_result"
    },
    {
     "data": {
      "image/png": "[encoded data removed]",
      "text/plain": [
       "<Figure size 432x288 with 1 Axes>"
      ]
     },
     "metadata": {
      "needs_background": "light"
     },
     "output_type": "display_data"
    }
   ],
   "source": [
    "sns.scatterplot(x = 'calculatedfinishedsquarefeet', y = 'taxvaluedollarcnt', data = train)"
   ]
  },
  {
   "cell_type": "code",
   "execution_count": 22,
   "metadata": {},
   "outputs": [
    {
     "data": {
      "text/plain": [
       "<AxesSubplot:xlabel='age', ylabel='taxvaluedollarcnt'>"
      ]
     },
     "execution_count": 22,
     "metadata": {},
     "output_type": "execute_result"
    },
    {
     "data": {
      "image/png": "[encoded data removed]",
      "text/plain": [
       "<Figure size 432x288 with 1 Axes>"
      ]
     },
     "metadata": {
      "needs_background": "light"
     },
     "output_type": "display_data"
    }
   ],
   "source": [
    "sns.scatterplot(x = 'age', y = 'taxvaluedollarcnt', data = train)"
   ]
  },
  {
   "cell_type": "code",
   "execution_count": 23,
   "metadata": {},
   "outputs": [
    {
     "data": {
      "text/plain": [
       "<AxesSubplot:xlabel='taxvaluedollarcnt', ylabel='Count'>"
      ]
     },
     "execution_count": 23,
     "metadata": {},
     "output_type": "execute_result"
    },
    {
     "data": {
      "image/png": "[encoded data removed]",
      "text/plain": [
       "<Figure size 432x288 with 1 Axes>"
      ]
     },
     "metadata": {
      "needs_background": "light"
     },
     "output_type": "display_data"
    }
   ],
   "source": [
    "sns.histplot(data = train, x = \"taxvaluedollarcnt\", hue = \"county\")"
   ]
  },
  {
   "cell_type": "code",
   "execution_count": 24,
   "metadata": {},
   "outputs": [
    {
     "data": {
      "text/plain": [
       "<AxesSubplot:xlabel='county'>"
      ]
     },
     "execution_count": 24,
     "metadata": {},
     "output_type": "execute_result"
    },
    {
     "data": {
      "image/png": "[encoded data removed]",
      "text/plain": [
       "<Figure size 432x288 with 1 Axes>"
      ]
     },
     "metadata": {
      "needs_background": "light"
     },
     "output_type": "display_data"
    }
   ],
   "source": [
    "train.groupby('county').taxvaluedollarcnt.mean().plot.bar()"
   ]
  },
  {
   "cell_type": "code",
   "execution_count": 25,
   "metadata": {},
   "outputs": [
    {
     "data": {
      "text/plain": [
       "<AxesSubplot:xlabel='tax_rate', ylabel='Count'>"
      ]
     },
     "execution_count": 25,
     "metadata": {},
     "output_type": "execute_result"
    },
    {
     "data": {
      "image/png": "[encoded data removed]",
      "text/plain": [
       "<Figure size 432x288 with 1 Axes>"
      ]
     },
     "metadata": {
      "needs_background": "light"
     },
     "output_type": "display_data"
    }
   ],
   "source": [
    "sns.histplot(data = train, x = \"tax_rate\", hue = \"county\")"
   ]
  },
  {
   "cell_type": "code",
   "execution_count": 26,
   "metadata": {},
   "outputs": [
    {
     "data": {
      "text/plain": [
       "<AxesSubplot:xlabel='county'>"
      ]
     },
     "execution_count": 26,
     "metadata": {},
     "output_type": "execute_result"
    },
    {
     "data": {
      "image/png": "[encoded data removed]",
      "text/plain": [
       "<Figure size 432x288 with 1 Axes>"
      ]
     },
     "metadata": {
      "needs_background": "light"
     },
     "output_type": "display_data"
    }
   ],
   "source": [
    "train.groupby('county').tax_rate.mean().plot.bar()"
   ]
  },
  {
   "cell_type": "code",
   "execution_count": 27,
   "metadata": {},
   "outputs": [
    {
     "data": {
      "text/plain": [
       "(1.2810140528386529, 1.1945067133683616, 1.1418509316770193)"
      ]
     },
     "execution_count": 27,
     "metadata": {},
     "output_type": "execute_result"
    }
   ],
   "source": [
    "la_county = train[train['county'] == 'Los Angeles']\n",
    "o_county = train[train['county'] == 'Orange']\n",
    "vt_county = train[train['county'] == 'Ventura']\n",
    "la_county.tax_rate.mean(), o_county.tax_rate.mean(), vt_county.tax_rate.mean()"
   ]
  },
  {
   "cell_type": "markdown",
   "metadata": {},
   "source": [
    "## Statistical tests"
   ]
  },
  {
   "cell_type": "markdown",
   "metadata": {},
   "source": [
    "### Hypothesis 1"
   ]
  },
  {
   "cell_type": "markdown",
   "metadata": {},
   "source": [
    "#### Null Hypothesis: There is no linear correlation between the square feet of a property and the tax value of that property"
   ]
  },
  {
   "cell_type": "markdown",
   "metadata": {},
   "source": [
    "#### Alternative Hypothesis: There is a linear correlation between the square feet of a property and the tax value of that property"
   ]
  },
  {
   "cell_type": "code",
   "execution_count": 28,
   "metadata": {},
   "outputs": [
    {
     "data": {
      "text/plain": [
       "(0.4210256787928052, 0.0)"
      ]
     },
     "execution_count": 28,
     "metadata": {},
     "output_type": "execute_result"
    }
   ],
   "source": [
    "corr, p = stats.pearsonr(train.taxvaluedollarcnt, train.calculatedfinishedsquarefeet)\n",
    "corr, p"
   ]
  },
  {
   "cell_type": "markdown",
   "metadata": {},
   "source": [
    "#### We reject the null hypothesis that there is no linear relationship between square feet of a property and the tax value of that property."
   ]
  },
  {
   "cell_type": "markdown",
   "metadata": {},
   "source": [
    "A bigger house correlating with a higher value doesn't come as much of a surprise."
   ]
  },
  {
   "cell_type": "markdown",
   "metadata": {},
   "source": [
    "### Hypothesis 2"
   ]
  },
  {
   "cell_type": "markdown",
   "metadata": {},
   "source": [
    "#### Null Hypothesis: There is no difference between Los Angeles county tax rate and the overall average county tax rates"
   ]
  },
  {
   "cell_type": "markdown",
   "metadata": {},
   "source": [
    "#### Alternative Hypothesis:  There is a difference between Los Angeles county tax rate and the overall average county tax rates"
   ]
  },
  {
   "cell_type": "code",
   "execution_count": 29,
   "metadata": {},
   "outputs": [
    {
     "data": {
      "text/plain": [
       "<AxesSubplot:xlabel='tax_rate', ylabel='Density'>"
      ]
     },
     "execution_count": 29,
     "metadata": {},
     "output_type": "execute_result"
    },
    {
     "data": {
      "image/png": "[encoded data removed]",
      "text/plain": [
       "<Figure size 432x288 with 1 Axes>"
      ]
     },
     "metadata": {
      "needs_background": "light"
     },
     "output_type": "display_data"
    }
   ],
   "source": [
    "sns.distplot(train[train['county'] == 'Los Angeles'].tax_rate)"
   ]
  },
  {
   "cell_type": "code",
   "execution_count": 30,
   "metadata": {},
   "outputs": [
    {
     "data": {
      "text/plain": [
       "(1.24, 1.2499001980801332)"
      ]
     },
     "execution_count": 30,
     "metadata": {},
     "output_type": "execute_result"
    }
   ],
   "source": [
    "train.tax_rate.median(), train.tax_rate.mean()"
   ]
  },
  {
   "cell_type": "code",
   "execution_count": 31,
   "metadata": {},
   "outputs": [
    {
     "data": {
      "text/plain": [
       "(29.177957916249103, 8.095974764192822e-179)"
      ]
     },
     "execution_count": 31,
     "metadata": {},
     "output_type": "execute_result"
    }
   ],
   "source": [
    "t, p = stats.ttest_1samp(la_county.tax_rate, zillow_no_out.tax_rate.mean())\n",
    "t, p"
   ]
  },
  {
   "cell_type": "markdown",
   "metadata": {},
   "source": [
    "#### We reject the null hypothesis that there is no difference between Los Angeles county tax rate and the overall average county tax rates"
   ]
  },
  {
   "cell_type": "markdown",
   "metadata": {},
   "source": [
    "As could have been guessed by the tax rate histogram, it seems the tax rate in Los Angeles is higher than the average tax rate."
   ]
  },
  {
   "cell_type": "markdown",
   "metadata": {},
   "source": [
    "## Modeling"
   ]
  },
  {
   "cell_type": "markdown",
   "metadata": {},
   "source": [
    "### Prepping again for modeling"
   ]
  },
  {
   "cell_type": "code",
   "execution_count": 32,
   "metadata": {},
   "outputs": [],
   "source": [
    "zillow_no_out.drop(columns = ['tax_rate', 'bathroomcnt', 'taxamount'], inplace = True)\n",
    "dummies_county = pd.get_dummies(zillow_no_out[['county']], drop_first = True)\n",
    "zillow_no_out.drop(columns = ['county'], inplace = True)\n",
    "zillow_no_out = pd.concat([zillow_no_out, dummies_county], axis=1)"
   ]
  },
  {
   "cell_type": "code",
   "execution_count": 33,
   "metadata": {},
   "outputs": [],
   "source": [
    "scaler_minmax = sklearn.preprocessing.MinMaxScaler()\n",
    "scaler_minmax.fit(zillow_no_out)\n",
    "zillow_minmax = scaler_minmax.transform(zillow_no_out)\n",
    "zillow_minmax = pd.DataFrame(zillow_minmax)\n",
    "key = zillow_no_out.columns.tolist()\n",
    "zillow_minmax.rename(columns = {i: key[i] for i in range(len(key))} , inplace = True)\n",
    "zillow_minmax.drop(columns = ['taxvaluedollarcnt'], inplace = True)\n",
    "zillow_no_out.index = zillow_minmax.index\n",
    "zillow_minmax['taxvaluedollarcnt'] = zillow['taxvaluedollarcnt']\n",
    "zillow_minmax.dropna(inplace = True)"
   ]
  },
  {
   "cell_type": "code",
   "execution_count": 34,
   "metadata": {},
   "outputs": [],
   "source": [
    "train, test = train_test_split(zillow_minmax, test_size=.2, random_state=123)\n",
    "train, validate = train_test_split(train, test_size=.3, random_state=123)"
   ]
  },
  {
   "cell_type": "code",
   "execution_count": 35,
   "metadata": {},
   "outputs": [
    {
     "data": {
      "text/html": [
       "<div>\n",
       "<style scoped>\n",
       "    .dataframe tbody tr th:only-of-type {\n",
       "        vertical-align: middle;\n",
       "    }\n",
       "\n",
       "    .dataframe tbody tr th {\n",
       "        vertical-align: top;\n",
       "    }\n",
       "\n",
       "    .dataframe thead th {\n",
       "        text-align: right;\n",
       "    }\n",
       "</style>\n",
       "<table border=\"1\" class=\"dataframe\">\n",
       "  <thead>\n",
       "    <tr style=\"text-align: right;\">\n",
       "      <th></th>\n",
       "      <th>lotsizesquarefeet</th>\n",
       "      <th>calculatedfinishedsquarefeet</th>\n",
       "      <th>bedroomcnt</th>\n",
       "      <th>age</th>\n",
       "      <th>county_Orange</th>\n",
       "      <th>county_Ventura</th>\n",
       "      <th>taxvaluedollarcnt</th>\n",
       "    </tr>\n",
       "  </thead>\n",
       "  <tbody>\n",
       "    <tr>\n",
       "      <th>19785</th>\n",
       "      <td>0.000357</td>\n",
       "      <td>0.062500</td>\n",
       "      <td>0.222222</td>\n",
       "      <td>0.700000</td>\n",
       "      <td>0.0</td>\n",
       "      <td>0.0</td>\n",
       "      <td>696956.0</td>\n",
       "    </tr>\n",
       "    <tr>\n",
       "      <th>8506</th>\n",
       "      <td>0.000962</td>\n",
       "      <td>0.200332</td>\n",
       "      <td>0.333333</td>\n",
       "      <td>0.476923</td>\n",
       "      <td>0.0</td>\n",
       "      <td>0.0</td>\n",
       "      <td>564370.0</td>\n",
       "    </tr>\n",
       "    <tr>\n",
       "      <th>2447</th>\n",
       "      <td>0.000716</td>\n",
       "      <td>0.112611</td>\n",
       "      <td>0.222222</td>\n",
       "      <td>0.476923</td>\n",
       "      <td>0.0</td>\n",
       "      <td>0.0</td>\n",
       "      <td>51615.0</td>\n",
       "    </tr>\n",
       "    <tr>\n",
       "      <th>11422</th>\n",
       "      <td>0.000746</td>\n",
       "      <td>0.116704</td>\n",
       "      <td>0.333333</td>\n",
       "      <td>0.484615</td>\n",
       "      <td>0.0</td>\n",
       "      <td>0.0</td>\n",
       "      <td>493507.0</td>\n",
       "    </tr>\n",
       "    <tr>\n",
       "      <th>22894</th>\n",
       "      <td>0.001370</td>\n",
       "      <td>0.170796</td>\n",
       "      <td>0.444444</td>\n",
       "      <td>0.407692</td>\n",
       "      <td>1.0</td>\n",
       "      <td>0.0</td>\n",
       "      <td>335083.0</td>\n",
       "    </tr>\n",
       "  </tbody>\n",
       "</table>\n",
       "</div>"
      ],
      "text/plain": [
       "       lotsizesquarefeet  calculatedfinishedsquarefeet  bedroomcnt       age  \\\n",
       "19785           0.000357                      0.062500    0.222222  0.700000   \n",
       "8506            0.000962                      0.200332    0.333333  0.476923   \n",
       "2447            0.000716                      0.112611    0.222222  0.476923   \n",
       "11422           0.000746                      0.116704    0.333333  0.484615   \n",
       "22894           0.001370                      0.170796    0.444444  0.407692   \n",
       "\n",
       "       county_Orange  county_Ventura  taxvaluedollarcnt  \n",
       "19785            0.0             0.0           696956.0  \n",
       "8506             0.0             0.0           564370.0  \n",
       "2447             0.0             0.0            51615.0  \n",
       "11422            0.0             0.0           493507.0  \n",
       "22894            1.0             0.0           335083.0  "
      ]
     },
     "execution_count": 35,
     "metadata": {},
     "output_type": "execute_result"
    }
   ],
   "source": [
    "train.head()"
   ]
  },
  {
   "cell_type": "code",
   "execution_count": 36,
   "metadata": {},
   "outputs": [],
   "source": [
    "x_train = train.drop(columns = ['taxvaluedollarcnt'])\n",
    "y_train = train['taxvaluedollarcnt']\n",
    "\n",
    "x_validate = validate.drop(columns = ['taxvaluedollarcnt'])\n",
    "y_validate = validate['taxvaluedollarcnt']\n",
    "\n",
    "x_test = test.drop(columns = ['taxvaluedollarcnt'])\n",
    "y_test = test['taxvaluedollarcnt']"
   ]
  },
  {
   "cell_type": "markdown",
   "metadata": {},
   "source": [
    "### Establishing a baseline"
   ]
  },
  {
   "cell_type": "code",
   "execution_count": 37,
   "metadata": {},
   "outputs": [
    {
     "name": "stdout",
     "output_type": "stream",
     "text": [
      "RMSE using Mean\n",
      "Train/In-Sample:  172083252866.17 \n",
      "Validate/Out-of-Sample:  185628199538.81\n",
      "RMSE using Median\n",
      "Train/In-Sample:  180308807001.05 \n",
      "Validate/Out-of-Sample:  193045774573.08\n"
     ]
    }
   ],
   "source": [
    "y_train = pd.DataFrame(y_train)\n",
    "y_validate = pd.DataFrame(y_validate)\n",
    "\n",
    "# Establishing mean\n",
    "zillow_pred_mean = y_train['taxvaluedollarcnt'].mean()\n",
    "y_train['zillow_pred_mean'] = zillow_pred_mean\n",
    "y_validate['zillow_pred_mean'] = zillow_pred_mean\n",
    "\n",
    "# Establishing median\n",
    "zillow_pred_median = y_train['taxvaluedollarcnt'].median()\n",
    "y_train['zillow_pred_median'] = zillow_pred_median\n",
    "y_validate['zillow_pred_median'] = zillow_pred_median\n",
    "\n",
    "# RMSE of mean\n",
    "rmse_train = mean_squared_error(y_train.taxvaluedollarcnt, y_train.zillow_pred_mean)**1/2\n",
    "rmse_validate = mean_squared_error(y_validate.taxvaluedollarcnt, y_validate.zillow_pred_mean)**1/2\n",
    "\n",
    "print(\"RMSE using Mean\\nTrain/In-Sample: \", round(rmse_train, 2), \n",
    "      \"\\nValidate/Out-of-Sample: \", round(rmse_validate, 2))\n",
    "\n",
    "# 4. RMSE of median\n",
    "rmse_train = mean_squared_error(y_train.taxvaluedollarcnt, y_train.zillow_pred_median)**1/2\n",
    "rmse_validate = mean_squared_error(y_validate.taxvaluedollarcnt, y_validate.zillow_pred_median)**1/2\n",
    "\n",
    "print(\"RMSE using Median\\nTrain/In-Sample: \", round(rmse_train, 2), \n",
    "      \"\\nValidate/Out-of-Sample: \", round(rmse_validate, 2))"
   ]
  },
  {
   "cell_type": "code",
   "execution_count": 38,
   "metadata": {},
   "outputs": [],
   "source": [
    "# First round w/o feature engineering RMSE\n",
    "# LR: 206087042976.58\n",
    "# LL: 206089844611.93\n",
    "# GLM: 206082636200.65\n",
    "# PR: 206260688614.09"
   ]
  },
  {
   "cell_type": "code",
   "execution_count": 39,
   "metadata": {},
   "outputs": [],
   "source": [
    "# Second round with bathroom count dropped RMSE\n",
    "# LR: 206085206855.45\n",
    "# LL: 206089844611.93\n",
    "# GLM: 206080982466.35\n",
    "# PR: 206053732686.74"
   ]
  },
  {
   "cell_type": "code",
   "execution_count": 40,
   "metadata": {},
   "outputs": [],
   "source": [
    "# Third round with lot size added as a feature and bathroom still dropped\n",
    "# LR: 179539666221.15\n",
    "# LL: 179533008833.56\n",
    "# GLM: 179533875024.64\n",
    "# PR: 179722516078.47"
   ]
  },
  {
   "cell_type": "markdown",
   "metadata": {},
   "source": [
    "### Linear Regression"
   ]
  },
  {
   "cell_type": "code",
   "execution_count": 41,
   "metadata": {},
   "outputs": [
    {
     "name": "stdout",
     "output_type": "stream",
     "text": [
      "RMSE for OLS using LinearRegression\n",
      "Training/In-Sample:  171690016605.88 \n",
      "Validation/Out-of-Sample:  185129396090.29\n"
     ]
    }
   ],
   "source": [
    "lin_reg = LinearRegression(normalize = True)\n",
    "lin_reg.fit(x_train, y_train['taxvaluedollarcnt'])\n",
    "y_train['value_pred_lm'] = lin_reg.predict(x_train)\n",
    "rmse_train = mean_squared_error(y_train['taxvaluedollarcnt'], y_train.value_pred_lm)**1/2\n",
    "y_validate['value_pred_lm'] = lin_reg.predict(x_validate)\n",
    "rmse_validate = mean_squared_error(y_validate['taxvaluedollarcnt'], y_validate.value_pred_lm)**1/2\n",
    "print(\"RMSE for OLS using LinearRegression\\nTraining/In-Sample: \", round(rmse_train, 2), \n",
    "      \"\\nValidation/Out-of-Sample: \", round(rmse_validate, 2))"
   ]
  },
  {
   "cell_type": "markdown",
   "metadata": {},
   "source": [
    "### LassoLars"
   ]
  },
  {
   "cell_type": "code",
   "execution_count": 42,
   "metadata": {},
   "outputs": [
    {
     "name": "stdout",
     "output_type": "stream",
     "text": [
      "RMSE for Lasso + Lars\n",
      "Training/In-Sample:  171690071499.77 \n",
      "Validation/Out-of-Sample:  185126990800.95\n"
     ]
    }
   ],
   "source": [
    "lars = LassoLars(alpha=1.0)\n",
    "lars.fit(x_train, y_train['taxvaluedollarcnt'])\n",
    "y_train['value_pred_lars'] = lars.predict(x_train)\n",
    "rmse_train = mean_squared_error(y_train['taxvaluedollarcnt'], y_train.value_pred_lars)**1/2\n",
    "y_validate['value_pred_lars'] = lars.predict(x_validate)\n",
    "rmse_validate = mean_squared_error(y_validate['taxvaluedollarcnt'], y_validate.value_pred_lars)**1/2\n",
    "print(\"RMSE for Lasso + Lars\\nTraining/In-Sample: \", round(rmse_train, 2), \n",
    "      \"\\nValidation/Out-of-Sample: \", round(rmse_validate, 2))"
   ]
  },
  {
   "cell_type": "markdown",
   "metadata": {},
   "source": [
    "### TweedieRegressor(GLM)"
   ]
  },
  {
   "cell_type": "code",
   "execution_count": 43,
   "metadata": {},
   "outputs": [
    {
     "name": "stdout",
     "output_type": "stream",
     "text": [
      "RMSE for Tweedie Regressor\n",
      "Training/In-Sample:  171695777965.29 \n",
      "Validation/Out-of-Sample:  185128888981.99\n"
     ]
    }
   ],
   "source": [
    "glm = TweedieRegressor(power=1, alpha=0)\n",
    "glm.fit(x_train, y_train['taxvaluedollarcnt'])\n",
    "y_train['value_pred_glm'] = glm.predict(x_train)\n",
    "rmse_train = mean_squared_error(y_train['taxvaluedollarcnt'], y_train.value_pred_glm)**1/2\n",
    "y_validate['value_pred_glm'] = glm.predict(x_validate)\n",
    "rmse_validate = mean_squared_error(y_validate['taxvaluedollarcnt'], y_validate.value_pred_glm)**1/2\n",
    "print(\"RMSE for Tweedie Regressor\\nTraining/In-Sample: \", round(rmse_train, 2), \n",
    "      \"\\nValidation/Out-of-Sample: \", round(rmse_validate, 2))"
   ]
  },
  {
   "cell_type": "markdown",
   "metadata": {},
   "source": [
    "### Polynomial Regression"
   ]
  },
  {
   "cell_type": "code",
   "execution_count": 44,
   "metadata": {},
   "outputs": [],
   "source": [
    "pf = PolynomialFeatures(degree=2)\n",
    "x_train_degree2 = pf.fit_transform(x_train)\n",
    "x_validate_degree2 = pf.transform(x_validate)"
   ]
  },
  {
   "cell_type": "code",
   "execution_count": 45,
   "metadata": {},
   "outputs": [
    {
     "name": "stdout",
     "output_type": "stream",
     "text": [
      "RMSE for Polynomial Model, degrees=2\n",
      "Training/In-Sample:  171475427036.7 \n",
      "Validation/Out-of-Sample:  186478045681.08\n"
     ]
    }
   ],
   "source": [
    "lm2 = LinearRegression(normalize=True)\n",
    "lm2.fit(x_train_degree2, y_train['taxvaluedollarcnt'])\n",
    "y_train['value_pred_lm2'] = lm2.predict(x_train_degree2)\n",
    "rmse_train = mean_squared_error(y_train['taxvaluedollarcnt'], y_train.value_pred_lm2)**1/2\n",
    "y_validate['value_pred_lm2'] = lm2.predict(x_validate_degree2)\n",
    "rmse_validate = mean_squared_error(y_validate['taxvaluedollarcnt'], y_validate.value_pred_lm2)**1/2\n",
    "print(\"RMSE for Polynomial Model, degrees=2\\nTraining/In-Sample: \", round(rmse_train, 2), \n",
    "      \"\\nValidation/Out-of-Sample: \", round(rmse_validate, 2))"
   ]
  },
  {
   "cell_type": "markdown",
   "metadata": {},
   "source": [
    "## Feature Engineering"
   ]
  },
  {
   "cell_type": "markdown",
   "metadata": {},
   "source": [
    "### SelectKBest"
   ]
  },
  {
   "cell_type": "code",
   "execution_count": 46,
   "metadata": {},
   "outputs": [
    {
     "data": {
      "text/plain": [
       "['calculatedfinishedsquarefeet', 'age', 'county_Orange', 'county_Ventura']"
      ]
     },
     "execution_count": 46,
     "metadata": {},
     "output_type": "execute_result"
    }
   ],
   "source": [
    "f_selector = SelectKBest(f_regression, k=4)\n",
    "f_selector.fit(zillow_minmax.drop(columns = ['taxvaluedollarcnt']), zillow_minmax['taxvaluedollarcnt'])\n",
    "feature_mask = f_selector.get_support()\n",
    "f_feature = zillow_minmax.drop(columns = ['taxvaluedollarcnt']).iloc[:,feature_mask].columns.tolist()\n",
    "f_feature"
   ]
  },
  {
   "cell_type": "markdown",
   "metadata": {},
   "source": [
    "### Recursive Feature Elimination"
   ]
  },
  {
   "cell_type": "code",
   "execution_count": 47,
   "metadata": {},
   "outputs": [
    {
     "data": {
      "text/plain": [
       "['lotsizesquarefeet', 'bedroomcnt', 'county_Orange', 'county_Ventura']"
      ]
     },
     "execution_count": 47,
     "metadata": {},
     "output_type": "execute_result"
    }
   ],
   "source": [
    "lm = LinearRegression()\n",
    "rfe = RFE(lm, 4)\n",
    "rfe.fit(zillow_minmax.drop(columns = ['taxvaluedollarcnt']), zillow_minmax['taxvaluedollarcnt'])\n",
    "feature_mask_rfe = rfe.support_\n",
    "rfe_feature = zillow_minmax.drop(columns = ['taxvaluedollarcnt']).iloc[:,feature_mask_rfe].columns.tolist()\n",
    "rfe_feature"
   ]
  },
  {
   "cell_type": "markdown",
   "metadata": {},
   "source": [
    "# Data Dictionary"
   ]
  },
  {
   "cell_type": "code",
   "execution_count": 58,
   "metadata": {},
   "outputs": [],
   "source": [
    "data_dictionary = pd.DataFrame(index = zillow_no_out.columns, columns=['type', 'description'])\n",
    "for name in zillow_no_out.columns:\n",
    "    data_dictionary.loc[name,'type'] = 'float64'"
   ]
  },
  {
   "cell_type": "code",
   "execution_count": 59,
   "metadata": {},
   "outputs": [],
   "source": [
    "data_dictionary.loc[['county'], 'type'] = 'object'"
   ]
  },
  {
   "cell_type": "code",
   "execution_count": 60,
   "metadata": {},
   "outputs": [],
   "source": [
    "data_dictionary.loc[['taxamount'], 'description'] = 'The annual taxes charged for the property'\n",
    "data_dictionary.loc[['lotsizesquarefeet'], 'description'] = 'The total square feet of the lot the property is on'\n",
    "data_dictionary.loc[['county'], 'description'] = 'The county the property is located in'\n",
    "data_dictionary.loc[['taxvaluedollarcnt'], 'description'] = 'The total tax assessed value of the property'\n",
    "data_dictionary.loc[['calculatedfinishedsquarefeet'], 'description'] = 'The total square feet of the developed property'\n",
    "data_dictionary.loc[['bathroomcnt'], 'description'] = 'The number of bathrooms in the property'\n",
    "data_dictionary.loc[['bedroomcnt'], 'description'] = 'The number of bedrroms in the property'\n",
    "data_dictionary.loc[['age'], 'description'] = 'The age of the developed property'\n",
    "data_dictionary.loc[['tax_rate'], 'description'] = 'The percentage of annual taxes to total tax assessed value of the property'"
   ]
  },
  {
   "cell_type": "code",
   "execution_count": 63,
   "metadata": {},
   "outputs": [
    {
     "name": "stdout",
     "output_type": "stream",
     "text": [
      "|                              | type    | description                                                                |\n",
      "|:-----------------------------|:--------|:---------------------------------------------------------------------------|\n",
      "| taxamount                    | float64 | The annual taxes charged for the property                                  |\n",
      "| lotsizesquarefeet            | float64 | The total square feet of the lot the property is on                        |\n",
      "| county                       | object  | The county the property is located in                                      |\n",
      "| taxvaluedollarcnt            | float64 | The total tax assessed value of the property                               |\n",
      "| calculatedfinishedsquarefeet | float64 | The total square feet of the developed property                            |\n",
      "| bathroomcnt                  | float64 | The number of bathrooms in the property                                    |\n",
      "| bedroomcnt                   | float64 | The number of bedrroms in the property                                     |\n",
      "| age                          | float64 | The age of the developed property                                          |\n",
      "| tax_rate                     | float64 | The percentage of annual taxes to total tax assessed value of the property |\n"
     ]
    }
   ],
   "source": [
    "print(data_dictionary.to_markdown())"
   ]
  },
  {
   "cell_type": "code",
   "execution_count": null,
   "metadata": {},
   "outputs": [],
   "source": []
  }
 ],
 "metadata": {
  "kernelspec": {
   "display_name": "Python 3",
   "language": "python",
   "name": "python3"
  },
  "language_info": {
   "codemirror_mode": {
    "name": "ipython",
    "version": 3
   },
   "file_extension": ".py",
   "mimetype": "text/x-python",
   "name": "python",
   "nbconvert_exporter": "python",
   "pygments_lexer": "ipython3",
   "version": "3.8.5"
  }
 },
 "nbformat": 4,
 "nbformat_minor": 4
}
