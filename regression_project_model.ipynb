{
 "cells": [
  {
   "cell_type": "markdown",
   "metadata": {},
   "source": [
    "## Importing necessary packages"
   ]
  },
  {
   "cell_type": "code",
   "execution_count": 1,
   "metadata": {},
   "outputs": [],
   "source": [
    "import matplotlib.pyplot as plt\n",
    "import numpy as np\n",
    "import pandas as pd\n",
    "from scipy import stats\n",
    "from datetime import date\n",
    "import seaborn as sns\n",
    "from pydataset import data\n",
    "from env import host, user, password\n",
    "import os\n",
    "from sklearn.feature_selection import SelectKBest, f_regression\n",
    "import sklearn.preprocessing\n",
    "from sklearn.feature_selection import RFE\n",
    "from sklearn.model_selection import train_test_split\n",
    "from sklearn.linear_model import LassoLars\n",
    "from sklearn.metrics import mean_squared_error\n",
    "from sklearn.linear_model import LinearRegression, LassoLars, TweedieRegressor\n",
    "from sklearn.preprocessing import PolynomialFeatures\n",
    "import warnings\n",
    "warnings.filterwarnings(\"ignore\")"
   ]
  },
  {
   "cell_type": "markdown",
   "metadata": {},
   "source": [
    "## Acquiring data"
   ]
  },
  {
   "cell_type": "code",
   "execution_count": 2,
   "metadata": {},
   "outputs": [],
   "source": [
    "def get_zillow_data(host = host, user = user, password = password):\n",
    "    filename = 'zillow.csv'\n",
    "    if os.path.isfile(filename):\n",
    "        return pd.read_csv(filename)\n",
    "    else:\n",
    "        db = 'zillow'\n",
    "        df = pd.read_sql('SELECT taxamount, lotsizesquarefeet, yearbuilt, fips, taxvaluedollarcnt, calculatedfinishedsquarefeet, bathroomcnt, bedroomcnt, propertylandusetypeid, transactiondate FROM properties_2017 JOIN predictions_2017 USING(id) WHERE  propertylandusetypeid IN (261, 262, 263, 273, 275, 276, 279) AND transactiondate >= \\'2017-05-01\\' AND transactiondate <= \\'2017-08-31\\'', f'mysql+pymysql://{user}:{password}@{host}/{db}')\n",
    "        df.to_csv(filename, index = False)\n",
    "        return df\n"
   ]
  },
  {
   "cell_type": "code",
   "execution_count": 3,
   "metadata": {},
   "outputs": [],
   "source": [
    "zillow = get_zillow_data()"
   ]
  },
  {
   "cell_type": "markdown",
   "metadata": {},
   "source": [
    "## Prepping the data"
   ]
  },
  {
   "cell_type": "code",
   "execution_count": 4,
   "metadata": {},
   "outputs": [],
   "source": [
    "# Adding in the age of the home, dropping the features used to select the specific data, putting in county names,\n",
    "# creating tax rate feature\n",
    "\n",
    "zillow['age'] = 2021 - zillow.yearbuilt\n",
    "zillow.drop(columns = ['propertylandusetypeid', 'transactiondate', 'yearbuilt'], inplace = True)\n",
    "zillow.fips.replace({6037: 'Los Angeles', 6059: 'Orange', 6111: 'Ventura'}, inplace = True)\n",
    "zillow.rename(columns = {'fips': 'county'}, inplace = True)\n",
    "zillow['tax_rate'] = round((zillow.taxamount / zillow.taxvaluedollarcnt) * 100, 2)"
   ]
  },
  {
   "cell_type": "code",
   "execution_count": 5,
   "metadata": {},
   "outputs": [],
   "source": [
    "# Dropping nulls\n",
    "\n",
    "zillow.dropna(inplace = True)"
   ]
  },
  {
   "cell_type": "code",
   "execution_count": 6,
   "metadata": {},
   "outputs": [
    {
     "name": "stdout",
     "output_type": "stream",
     "text": [
      "<class 'pandas.core.frame.DataFrame'>\n",
      "Int64Index: 30373 entries, 0 to 31208\n",
      "Data columns (total 9 columns):\n",
      " #   Column                        Non-Null Count  Dtype  \n",
      "---  ------                        --------------  -----  \n",
      " 0   taxamount                     30373 non-null  float64\n",
      " 1   lotsizesquarefeet             30373 non-null  float64\n",
      " 2   county                        30373 non-null  object \n",
      " 3   taxvaluedollarcnt             30373 non-null  float64\n",
      " 4   calculatedfinishedsquarefeet  30373 non-null  float64\n",
      " 5   bathroomcnt                   30373 non-null  float64\n",
      " 6   bedroomcnt                    30373 non-null  float64\n",
      " 7   age                           30373 non-null  float64\n",
      " 8   tax_rate                      30373 non-null  float64\n",
      "dtypes: float64(8), object(1)\n",
      "memory usage: 2.3+ MB\n"
     ]
    }
   ],
   "source": [
    "zillow.info()"
   ]
  },
  {
   "cell_type": "code",
   "execution_count": 7,
   "metadata": {},
   "outputs": [
    {
     "data": {
      "text/plain": [
       "taxamount                       2748\n",
       "lotsizesquarefeet               2748\n",
       "county                          2748\n",
       "taxvaluedollarcnt               2748\n",
       "calculatedfinishedsquarefeet    2748\n",
       "bathroomcnt                     2748\n",
       "bedroomcnt                      2748\n",
       "age                             2748\n",
       "tax_rate                        2748\n",
       "dtype: int64"
      ]
     },
     "execution_count": 7,
     "metadata": {},
     "output_type": "execute_result"
    }
   ],
   "source": [
    "# Getting rid of property value outliers\n",
    "\n",
    "Q1 = zillow['taxvaluedollarcnt'].quantile(0.25)\n",
    "Q3 = zillow['taxvaluedollarcnt'].quantile(0.75)\n",
    "IQR = Q3 - Q1\n",
    "\n",
    "zillow[zillow.taxvaluedollarcnt > (Q3 + IQR)].count()"
   ]
  },
  {
   "cell_type": "code",
   "execution_count": 8,
   "metadata": {},
   "outputs": [],
   "source": [
    "zillow_no_out = zillow[(zillow.taxvaluedollarcnt < (Q3 + IQR)) & (zillow.taxvaluedollarcnt > (Q1 - IQR))]"
   ]
  },
  {
   "cell_type": "code",
   "execution_count": 9,
   "metadata": {},
   "outputs": [
    {
     "data": {
      "text/plain": [
       "taxamount                       3374\n",
       "lotsizesquarefeet               3374\n",
       "county                          3374\n",
       "taxvaluedollarcnt               3374\n",
       "calculatedfinishedsquarefeet    3374\n",
       "bathroomcnt                     3374\n",
       "bedroomcnt                      3374\n",
       "age                             3374\n",
       "tax_rate                        3374\n",
       "dtype: int64"
      ]
     },
     "execution_count": 9,
     "metadata": {},
     "output_type": "execute_result"
    }
   ],
   "source": [
    "# Getting rid of tax lot size outliers\n",
    "\n",
    "Q1 = zillow_no_out['lotsizesquarefeet'].quantile(0.25)\n",
    "Q3 = zillow_no_out['lotsizesquarefeet'].quantile(0.75)\n",
    "IQR = Q3 - Q1\n",
    "\n",
    "zillow_no_out[zillow_no_out.lotsizesquarefeet > (Q3 + IQR)].count()"
   ]
  },
  {
   "cell_type": "code",
   "execution_count": 10,
   "metadata": {},
   "outputs": [],
   "source": [
    "zillow_no_out = zillow_no_out[(zillow_no_out.lotsizesquarefeet < (Q3 + IQR)) & (zillow_no_out.lotsizesquarefeet > (Q1 - IQR))]"
   ]
  },
  {
   "cell_type": "code",
   "execution_count": 11,
   "metadata": {},
   "outputs": [],
   "source": [
    "# Splitting into train, test, and validate\n",
    "\n",
    "train, test = train_test_split(zillow_no_out, test_size=.2, random_state=123)\n",
    "train, validate = train_test_split(train, test_size=.3, random_state=123)"
   ]
  },
  {
   "cell_type": "markdown",
   "metadata": {},
   "source": [
    "## Explore"
   ]
  },
  {
   "cell_type": "code",
   "execution_count": 12,
   "metadata": {},
   "outputs": [
    {
     "data": {
      "text/html": [
       "<div>\n",
       "<style scoped>\n",
       "    .dataframe tbody tr th:only-of-type {\n",
       "        vertical-align: middle;\n",
       "    }\n",
       "\n",
       "    .dataframe tbody tr th {\n",
       "        vertical-align: top;\n",
       "    }\n",
       "\n",
       "    .dataframe thead th {\n",
       "        text-align: right;\n",
       "    }\n",
       "</style>\n",
       "<table border=\"1\" class=\"dataframe\">\n",
       "  <thead>\n",
       "    <tr style=\"text-align: right;\">\n",
       "      <th></th>\n",
       "      <th>taxamount</th>\n",
       "      <th>lotsizesquarefeet</th>\n",
       "      <th>county</th>\n",
       "      <th>taxvaluedollarcnt</th>\n",
       "      <th>calculatedfinishedsquarefeet</th>\n",
       "      <th>bathroomcnt</th>\n",
       "      <th>bedroomcnt</th>\n",
       "      <th>age</th>\n",
       "      <th>tax_rate</th>\n",
       "    </tr>\n",
       "  </thead>\n",
       "  <tbody>\n",
       "    <tr>\n",
       "      <th>3272</th>\n",
       "      <td>823.63</td>\n",
       "      <td>7502.0</td>\n",
       "      <td>Los Angeles</td>\n",
       "      <td>45507.0</td>\n",
       "      <td>864.0</td>\n",
       "      <td>1.0</td>\n",
       "      <td>2.0</td>\n",
       "      <td>70.0</td>\n",
       "      <td>1.81</td>\n",
       "    </tr>\n",
       "    <tr>\n",
       "      <th>2899</th>\n",
       "      <td>4326.04</td>\n",
       "      <td>5849.0</td>\n",
       "      <td>Los Angeles</td>\n",
       "      <td>350697.0</td>\n",
       "      <td>1584.0</td>\n",
       "      <td>2.0</td>\n",
       "      <td>3.0</td>\n",
       "      <td>98.0</td>\n",
       "      <td>1.23</td>\n",
       "    </tr>\n",
       "    <tr>\n",
       "      <th>8542</th>\n",
       "      <td>1315.74</td>\n",
       "      <td>7200.0</td>\n",
       "      <td>Orange</td>\n",
       "      <td>132879.0</td>\n",
       "      <td>1309.0</td>\n",
       "      <td>2.0</td>\n",
       "      <td>3.0</td>\n",
       "      <td>49.0</td>\n",
       "      <td>0.99</td>\n",
       "    </tr>\n",
       "    <tr>\n",
       "      <th>20649</th>\n",
       "      <td>8671.24</td>\n",
       "      <td>5208.0</td>\n",
       "      <td>Los Angeles</td>\n",
       "      <td>663216.0</td>\n",
       "      <td>2978.0</td>\n",
       "      <td>3.0</td>\n",
       "      <td>5.0</td>\n",
       "      <td>17.0</td>\n",
       "      <td>1.31</td>\n",
       "    </tr>\n",
       "    <tr>\n",
       "      <th>9307</th>\n",
       "      <td>7463.74</td>\n",
       "      <td>8047.0</td>\n",
       "      <td>Orange</td>\n",
       "      <td>619056.0</td>\n",
       "      <td>2710.0</td>\n",
       "      <td>3.0</td>\n",
       "      <td>3.0</td>\n",
       "      <td>19.0</td>\n",
       "      <td>1.21</td>\n",
       "    </tr>\n",
       "    <tr>\n",
       "      <th>...</th>\n",
       "      <td>...</td>\n",
       "      <td>...</td>\n",
       "      <td>...</td>\n",
       "      <td>...</td>\n",
       "      <td>...</td>\n",
       "      <td>...</td>\n",
       "      <td>...</td>\n",
       "      <td>...</td>\n",
       "      <td>...</td>\n",
       "    </tr>\n",
       "    <tr>\n",
       "      <th>6982</th>\n",
       "      <td>5713.50</td>\n",
       "      <td>6240.0</td>\n",
       "      <td>Orange</td>\n",
       "      <td>479778.0</td>\n",
       "      <td>1434.0</td>\n",
       "      <td>2.0</td>\n",
       "      <td>4.0</td>\n",
       "      <td>58.0</td>\n",
       "      <td>1.19</td>\n",
       "    </tr>\n",
       "    <tr>\n",
       "      <th>11306</th>\n",
       "      <td>3190.23</td>\n",
       "      <td>7800.0</td>\n",
       "      <td>Los Angeles</td>\n",
       "      <td>262475.0</td>\n",
       "      <td>1158.0</td>\n",
       "      <td>1.0</td>\n",
       "      <td>3.0</td>\n",
       "      <td>75.0</td>\n",
       "      <td>1.22</td>\n",
       "    </tr>\n",
       "    <tr>\n",
       "      <th>4927</th>\n",
       "      <td>6637.67</td>\n",
       "      <td>7565.0</td>\n",
       "      <td>Los Angeles</td>\n",
       "      <td>579063.0</td>\n",
       "      <td>1819.0</td>\n",
       "      <td>2.0</td>\n",
       "      <td>3.0</td>\n",
       "      <td>67.0</td>\n",
       "      <td>1.15</td>\n",
       "    </tr>\n",
       "    <tr>\n",
       "      <th>31069</th>\n",
       "      <td>6234.64</td>\n",
       "      <td>7344.0</td>\n",
       "      <td>Orange</td>\n",
       "      <td>610266.0</td>\n",
       "      <td>1875.0</td>\n",
       "      <td>3.0</td>\n",
       "      <td>3.0</td>\n",
       "      <td>54.0</td>\n",
       "      <td>1.02</td>\n",
       "    </tr>\n",
       "    <tr>\n",
       "      <th>8636</th>\n",
       "      <td>7246.16</td>\n",
       "      <td>7254.0</td>\n",
       "      <td>Orange</td>\n",
       "      <td>721225.0</td>\n",
       "      <td>1738.0</td>\n",
       "      <td>2.0</td>\n",
       "      <td>4.0</td>\n",
       "      <td>50.0</td>\n",
       "      <td>1.00</td>\n",
       "    </tr>\n",
       "  </tbody>\n",
       "</table>\n",
       "<p>12996 rows × 9 columns</p>\n",
       "</div>"
      ],
      "text/plain": [
       "       taxamount  lotsizesquarefeet       county  taxvaluedollarcnt  \\\n",
       "3272      823.63             7502.0  Los Angeles            45507.0   \n",
       "2899     4326.04             5849.0  Los Angeles           350697.0   \n",
       "8542     1315.74             7200.0       Orange           132879.0   \n",
       "20649    8671.24             5208.0  Los Angeles           663216.0   \n",
       "9307     7463.74             8047.0       Orange           619056.0   \n",
       "...          ...                ...          ...                ...   \n",
       "6982     5713.50             6240.0       Orange           479778.0   \n",
       "11306    3190.23             7800.0  Los Angeles           262475.0   \n",
       "4927     6637.67             7565.0  Los Angeles           579063.0   \n",
       "31069    6234.64             7344.0       Orange           610266.0   \n",
       "8636     7246.16             7254.0       Orange           721225.0   \n",
       "\n",
       "       calculatedfinishedsquarefeet  bathroomcnt  bedroomcnt   age  tax_rate  \n",
       "3272                          864.0          1.0         2.0  70.0      1.81  \n",
       "2899                         1584.0          2.0         3.0  98.0      1.23  \n",
       "8542                         1309.0          2.0         3.0  49.0      0.99  \n",
       "20649                        2978.0          3.0         5.0  17.0      1.31  \n",
       "9307                         2710.0          3.0         3.0  19.0      1.21  \n",
       "...                             ...          ...         ...   ...       ...  \n",
       "6982                         1434.0          2.0         4.0  58.0      1.19  \n",
       "11306                        1158.0          1.0         3.0  75.0      1.22  \n",
       "4927                         1819.0          2.0         3.0  67.0      1.15  \n",
       "31069                        1875.0          3.0         3.0  54.0      1.02  \n",
       "8636                         1738.0          2.0         4.0  50.0      1.00  \n",
       "\n",
       "[12996 rows x 9 columns]"
      ]
     },
     "execution_count": 12,
     "metadata": {},
     "output_type": "execute_result"
    }
   ],
   "source": [
    "train"
   ]
  },
  {
   "cell_type": "code",
   "execution_count": 13,
   "metadata": {},
   "outputs": [
    {
     "data": {
      "text/html": [
       "<div>\n",
       "<style scoped>\n",
       "    .dataframe tbody tr th:only-of-type {\n",
       "        vertical-align: middle;\n",
       "    }\n",
       "\n",
       "    .dataframe tbody tr th {\n",
       "        vertical-align: top;\n",
       "    }\n",
       "\n",
       "    .dataframe thead th {\n",
       "        text-align: right;\n",
       "    }\n",
       "</style>\n",
       "<table border=\"1\" class=\"dataframe\">\n",
       "  <thead>\n",
       "    <tr style=\"text-align: right;\">\n",
       "      <th></th>\n",
       "      <th>taxamount</th>\n",
       "      <th>lotsizesquarefeet</th>\n",
       "      <th>taxvaluedollarcnt</th>\n",
       "      <th>calculatedfinishedsquarefeet</th>\n",
       "      <th>bathroomcnt</th>\n",
       "      <th>bedroomcnt</th>\n",
       "      <th>age</th>\n",
       "      <th>tax_rate</th>\n",
       "    </tr>\n",
       "    <tr>\n",
       "      <th>county</th>\n",
       "      <th></th>\n",
       "      <th></th>\n",
       "      <th></th>\n",
       "      <th></th>\n",
       "      <th></th>\n",
       "      <th></th>\n",
       "      <th></th>\n",
       "      <th></th>\n",
       "    </tr>\n",
       "  </thead>\n",
       "  <tbody>\n",
       "    <tr>\n",
       "      <th>Los Angeles</th>\n",
       "      <td>9004</td>\n",
       "      <td>9004</td>\n",
       "      <td>9004</td>\n",
       "      <td>9004</td>\n",
       "      <td>9004</td>\n",
       "      <td>9004</td>\n",
       "      <td>9004</td>\n",
       "      <td>9004</td>\n",
       "    </tr>\n",
       "    <tr>\n",
       "      <th>Orange</th>\n",
       "      <td>3309</td>\n",
       "      <td>3309</td>\n",
       "      <td>3309</td>\n",
       "      <td>3309</td>\n",
       "      <td>3309</td>\n",
       "      <td>3309</td>\n",
       "      <td>3309</td>\n",
       "      <td>3309</td>\n",
       "    </tr>\n",
       "    <tr>\n",
       "      <th>Ventura</th>\n",
       "      <td>683</td>\n",
       "      <td>683</td>\n",
       "      <td>683</td>\n",
       "      <td>683</td>\n",
       "      <td>683</td>\n",
       "      <td>683</td>\n",
       "      <td>683</td>\n",
       "      <td>683</td>\n",
       "    </tr>\n",
       "  </tbody>\n",
       "</table>\n",
       "</div>"
      ],
      "text/plain": [
       "             taxamount  lotsizesquarefeet  taxvaluedollarcnt  \\\n",
       "county                                                         \n",
       "Los Angeles       9004               9004               9004   \n",
       "Orange            3309               3309               3309   \n",
       "Ventura            683                683                683   \n",
       "\n",
       "             calculatedfinishedsquarefeet  bathroomcnt  bedroomcnt   age  \\\n",
       "county                                                                     \n",
       "Los Angeles                          9004         9004        9004  9004   \n",
       "Orange                               3309         3309        3309  3309   \n",
       "Ventura                               683          683         683   683   \n",
       "\n",
       "             tax_rate  \n",
       "county                 \n",
       "Los Angeles      9004  \n",
       "Orange           3309  \n",
       "Ventura           683  "
      ]
     },
     "execution_count": 13,
     "metadata": {},
     "output_type": "execute_result"
    }
   ],
   "source": [
    "# Counts of each county\n",
    "\n",
    "train.groupby('county').count()"
   ]
  },
  {
   "cell_type": "code",
   "execution_count": 14,
   "metadata": {},
   "outputs": [
    {
     "data": {
      "text/plain": [
       "<AxesSubplot:>"
      ]
     },
     "execution_count": 14,
     "metadata": {},
     "output_type": "execute_result"
    },
    {
     "data": {
      "image/png": "[encoded data removed]",
      "text/plain": [
       "<Figure size 432x288 with 1 Axes>"
      ]
     },
     "metadata": {
      "needs_background": "light"
     },
     "output_type": "display_data"
    }
   ],
   "source": [
    "# Histogram of square foot breakdown\n",
    "\n",
    "train.calculatedfinishedsquarefeet.hist()"
   ]
  },
  {
   "cell_type": "code",
   "execution_count": 15,
   "metadata": {},
   "outputs": [
    {
     "data": {
      "text/plain": [
       "<AxesSubplot:>"
      ]
     },
     "execution_count": 15,
     "metadata": {},
     "output_type": "execute_result"
    },
    {
     "data": {
      "image/png": "[encoded data removed]",
      "text/plain": [
       "<Figure size 432x288 with 1 Axes>"
      ]
     },
     "metadata": {
      "needs_background": "light"
     },
     "output_type": "display_data"
    }
   ],
   "source": [
    "# Histogram of bathroom counts\n",
    "\n",
    "train.bathroomcnt.hist()"
   ]
  },
  {
   "cell_type": "code",
   "execution_count": 16,
   "metadata": {},
   "outputs": [
    {
     "data": {
      "text/plain": [
       "<AxesSubplot:>"
      ]
     },
     "execution_count": 16,
     "metadata": {},
     "output_type": "execute_result"
    },
    {
     "data": {
      "image/png": "[encoded data removed]",
      "text/plain": [
       "<Figure size 432x288 with 1 Axes>"
      ]
     },
     "metadata": {
      "needs_background": "light"
     },
     "output_type": "display_data"
    }
   ],
   "source": [
    "# Histogram of bedroom counts\n",
    "\n",
    "train.bedroomcnt.hist()"
   ]
  },
  {
   "cell_type": "code",
   "execution_count": 17,
   "metadata": {},
   "outputs": [
    {
     "data": {
      "text/plain": [
       "<AxesSubplot:>"
      ]
     },
     "execution_count": 17,
     "metadata": {},
     "output_type": "execute_result"
    },
    {
     "data": {
      "image/png": "[encoded data removed]",
      "text/plain": [
       "<Figure size 432x288 with 1 Axes>"
      ]
     },
     "metadata": {
      "needs_background": "light"
     },
     "output_type": "display_data"
    }
   ],
   "source": [
    "# Histogram of property values\n",
    "\n",
    "train.taxvaluedollarcnt.hist()"
   ]
  },
  {
   "cell_type": "code",
   "execution_count": 18,
   "metadata": {},
   "outputs": [
    {
     "data": {
      "text/plain": [
       "<AxesSubplot:xlabel='taxvaluedollarcnt'>"
      ]
     },
     "execution_count": 18,
     "metadata": {},
     "output_type": "execute_result"
    },
    {
     "data": {
      "image/png": "[encoded data removed]",
      "text/plain": [
       "<Figure size 432x288 with 1 Axes>"
      ]
     },
     "metadata": {
      "needs_background": "light"
     },
     "output_type": "display_data"
    }
   ],
   "source": [
    "# Boxplot of property values\n",
    "\n",
    "sns.boxplot(train.taxvaluedollarcnt)"
   ]
  },
  {
   "cell_type": "code",
   "execution_count": 19,
   "metadata": {},
   "outputs": [
    {
     "data": {
      "text/plain": [
       "<AxesSubplot:xlabel='bedroomcnt'>"
      ]
     },
     "execution_count": 19,
     "metadata": {},
     "output_type": "execute_result"
    },
    {
     "data": {
      "image/png": "[encoded data removed]",
      "text/plain": [
       "<Figure size 432x288 with 1 Axes>"
      ]
     },
     "metadata": {
      "needs_background": "light"
     },
     "output_type": "display_data"
    }
   ],
   "source": [
    "# Bar chart of bedroom counts\n",
    "\n",
    "train.groupby('bedroomcnt').taxvaluedollarcnt.mean().plot.bar()"
   ]
  },
  {
   "cell_type": "code",
   "execution_count": 20,
   "metadata": {},
   "outputs": [
    {
     "data": {
      "text/plain": [
       "<AxesSubplot:xlabel='bathroomcnt'>"
      ]
     },
     "execution_count": 20,
     "metadata": {},
     "output_type": "execute_result"
    },
    {
     "data": {
      "image/png": "[encoded data removed]",
      "text/plain": [
       "<Figure size 432x288 with 1 Axes>"
      ]
     },
     "metadata": {
      "needs_background": "light"
     },
     "output_type": "display_data"
    }
   ],
   "source": [
    "# Bar chart of bathroom counts\n",
    "\n",
    "train.groupby('bathroomcnt').taxvaluedollarcnt.mean().plot.bar()"
   ]
  },
  {
   "cell_type": "code",
   "execution_count": 21,
   "metadata": {},
   "outputs": [
    {
     "data": {
      "text/plain": [
       "<AxesSubplot:xlabel='calculatedfinishedsquarefeet', ylabel='taxvaluedollarcnt'>"
      ]
     },
     "execution_count": 21,
     "metadata": {},
     "output_type": "execute_result"
    },
    {
     "data": {
      "image/png": "[encoded data removed]",
      "text/plain": [
       "<Figure size 432x288 with 1 Axes>"
      ]
     },
     "metadata": {
      "needs_background": "light"
     },
     "output_type": "display_data"
    }
   ],
   "source": [
    "# Scatterplot of property square feet and property value\n",
    "\n",
    "sns.scatterplot(x = 'calculatedfinishedsquarefeet', y = 'taxvaluedollarcnt', data = train)"
   ]
  },
  {
   "cell_type": "code",
   "execution_count": 22,
   "metadata": {},
   "outputs": [
    {
     "data": {
      "text/plain": [
       "<AxesSubplot:xlabel='age', ylabel='taxvaluedollarcnt'>"
      ]
     },
     "execution_count": 22,
     "metadata": {},
     "output_type": "execute_result"
    },
    {
     "data": {
      "image/png": "[encoded data removed]",
      "text/plain": [
       "<Figure size 432x288 with 1 Axes>"
      ]
     },
     "metadata": {
      "needs_background": "light"
     },
     "output_type": "display_data"
    }
   ],
   "source": [
    "# Scatterplot of property age and property value\n",
    "\n",
    "sns.scatterplot(x = 'age', y = 'taxvaluedollarcnt', data = train)"
   ]
  },
  {
   "cell_type": "code",
   "execution_count": 23,
   "metadata": {},
   "outputs": [
    {
     "data": {
      "text/plain": [
       "<AxesSubplot:xlabel='taxvaluedollarcnt', ylabel='Count'>"
      ]
     },
     "execution_count": 23,
     "metadata": {},
     "output_type": "execute_result"
    },
    {
     "data": {
      "image/png": "[encoded data removed]",
      "text/plain": [
       "<Figure size 432x288 with 1 Axes>"
      ]
     },
     "metadata": {
      "needs_background": "light"
     },
     "output_type": "display_data"
    }
   ],
   "source": [
    "# Histogram of different counties property values\n",
    "\n",
    "sns.histplot(data = train, x = \"taxvaluedollarcnt\", hue = \"county\")"
   ]
  },
  {
   "cell_type": "code",
   "execution_count": 24,
   "metadata": {},
   "outputs": [
    {
     "data": {
      "text/plain": [
       "<AxesSubplot:xlabel='county'>"
      ]
     },
     "execution_count": 24,
     "metadata": {},
     "output_type": "execute_result"
    },
    {
     "data": {
      "image/png": "[encoded data removed]",
      "text/plain": [
       "<Figure size 432x288 with 1 Axes>"
      ]
     },
     "metadata": {
      "needs_background": "light"
     },
     "output_type": "display_data"
    }
   ],
   "source": [
    "# Bar chart of average property value by county\n",
    "\n",
    "train.groupby('county').taxvaluedollarcnt.mean().plot.bar()"
   ]
  },
  {
   "cell_type": "code",
   "execution_count": 25,
   "metadata": {},
   "outputs": [
    {
     "data": {
      "text/plain": [
       "<AxesSubplot:xlabel='county'>"
      ]
     },
     "execution_count": 25,
     "metadata": {},
     "output_type": "execute_result"
    },
    {
     "data": {
      "image/png": "[encoded data removed]",
      "text/plain": [
       "<Figure size 432x288 with 1 Axes>"
      ]
     },
     "metadata": {
      "needs_background": "light"
     },
     "output_type": "display_data"
    }
   ],
   "source": [
    "# Bar chart of average tax rate by county\n",
    "\n",
    "train.groupby('county').tax_rate.mean().plot.bar()"
   ]
  },
  {
   "cell_type": "code",
   "execution_count": 26,
   "metadata": {},
   "outputs": [
    {
     "data": {
      "text/plain": [
       "(1.406812527765416, 1.2298035660320308, 1.1758711566617828)"
      ]
     },
     "execution_count": 26,
     "metadata": {},
     "output_type": "execute_result"
    }
   ],
   "source": [
    "# Splitting train data into subgroups by county\n",
    "\n",
    "la_county = train[train['county'] == 'Los Angeles']\n",
    "o_county = train[train['county'] == 'Orange']\n",
    "vt_county = train[train['county'] == 'Ventura']\n",
    "la_county.tax_rate.mean(), o_county.tax_rate.mean(), vt_county.tax_rate.mean()"
   ]
  },
  {
   "cell_type": "code",
   "execution_count": 27,
   "metadata": {},
   "outputs": [],
   "source": [
    "# Making subgroups by county minus the outliers for visualization\n",
    "\n",
    "Q1 = train['tax_rate'].quantile(0.25)\n",
    "Q3 = train['tax_rate'].quantile(0.75)\n",
    "IQR = Q3 - Q1\n",
    "zillow_taxrates = train[(train.tax_rate < (Q3 + IQR)) & (train.tax_rate > (Q1 - IQR))]\n",
    "la_county_tax = zillow_taxrates[zillow_taxrates['county'] == 'Los Angeles']\n",
    "o_county_tax = zillow_taxrates[zillow_taxrates['county'] == 'Orange']\n",
    "vt_county_tax = zillow_taxrates[zillow_taxrates['county'] == 'Ventura']"
   ]
  },
  {
   "cell_type": "code",
   "execution_count": 28,
   "metadata": {},
   "outputs": [
    {
     "data": {
      "text/plain": [
       "taxamount                       3093\n",
       "lotsizesquarefeet               3093\n",
       "county                          3093\n",
       "taxvaluedollarcnt               3093\n",
       "calculatedfinishedsquarefeet    3093\n",
       "bathroomcnt                     3093\n",
       "bedroomcnt                      3093\n",
       "age                             3093\n",
       "tax_rate                        3093\n",
       "dtype: int64"
      ]
     },
     "execution_count": 28,
     "metadata": {},
     "output_type": "execute_result"
    }
   ],
   "source": [
    "zillow_no_out[zillow_no_out.tax_rate > (Q3 + IQR)].count()"
   ]
  },
  {
   "cell_type": "code",
   "execution_count": 29,
   "metadata": {},
   "outputs": [
    {
     "data": {
      "text/plain": [
       "<AxesSubplot:xlabel='tax_rate', ylabel='Count'>"
      ]
     },
     "execution_count": 29,
     "metadata": {},
     "output_type": "execute_result"
    },
    {
     "data": {
      "image/png": "[encoded data removed]",
      "text/plain": [
       "<Figure size 432x288 with 1 Axes>"
      ]
     },
     "metadata": {
      "needs_background": "light"
     },
     "output_type": "display_data"
    }
   ],
   "source": [
    "# Histogram of different counties tax rates\n",
    "\n",
    "sns.histplot(data = zillow_taxrates, x = \"tax_rate\", hue = \"county\")"
   ]
  },
  {
   "cell_type": "code",
   "execution_count": 57,
   "metadata": {},
   "outputs": [
    {
     "data": {
      "text/plain": [
       "taxamount                       11117\n",
       "lotsizesquarefeet               11117\n",
       "county                          11117\n",
       "taxvaluedollarcnt               11117\n",
       "calculatedfinishedsquarefeet    11117\n",
       "bathroomcnt                     11117\n",
       "bedroomcnt                      11117\n",
       "age                             11117\n",
       "tax_rate                        11117\n",
       "dtype: int64"
      ]
     },
     "execution_count": 57,
     "metadata": {},
     "output_type": "execute_result"
    }
   ],
   "source": [
    "zillow_taxrates.count()"
   ]
  },
  {
   "cell_type": "code",
   "execution_count": 30,
   "metadata": {},
   "outputs": [
    {
     "data": {
      "text/plain": [
       "<AxesSubplot:xlabel='tax_rate', ylabel='Count'>"
      ]
     },
     "execution_count": 30,
     "metadata": {},
     "output_type": "execute_result"
    },
    {
     "data": {
      "image/png": "[encoded data removed]",
      "text/plain": [
       "<Figure size 432x288 with 1 Axes>"
      ]
     },
     "metadata": {
      "needs_background": "light"
     },
     "output_type": "display_data"
    }
   ],
   "source": [
    "# Histogram of tax rates in Los Angeles county\n",
    "\n",
    "sns.histplot(data = la_county_tax, x = \"tax_rate\")"
   ]
  },
  {
   "cell_type": "code",
   "execution_count": 31,
   "metadata": {},
   "outputs": [
    {
     "data": {
      "text/plain": [
       "<AxesSubplot:xlabel='tax_rate', ylabel='Count'>"
      ]
     },
     "execution_count": 31,
     "metadata": {},
     "output_type": "execute_result"
    },
    {
     "data": {
      "image/png": "[encoded data removed]",
      "text/plain": [
       "<Figure size 432x288 with 1 Axes>"
      ]
     },
     "metadata": {
      "needs_background": "light"
     },
     "output_type": "display_data"
    }
   ],
   "source": [
    "# Histogram of tax rates in Orange county\n",
    "\n",
    "sns.histplot(data = o_county_tax, x = \"tax_rate\")"
   ]
  },
  {
   "cell_type": "code",
   "execution_count": 32,
   "metadata": {},
   "outputs": [
    {
     "data": {
      "text/plain": [
       "<AxesSubplot:xlabel='tax_rate', ylabel='Count'>"
      ]
     },
     "execution_count": 32,
     "metadata": {},
     "output_type": "execute_result"
    },
    {
     "data": {
      "image/png": "[encoded data removed]",
      "text/plain": [
       "<Figure size 432x288 with 1 Axes>"
      ]
     },
     "metadata": {
      "needs_background": "light"
     },
     "output_type": "display_data"
    }
   ],
   "source": [
    "# Histogram of tax rates in Ventura county\n",
    "\n",
    "sns.histplot(data = vt_county_tax, x = \"tax_rate\")"
   ]
  },
  {
   "cell_type": "markdown",
   "metadata": {},
   "source": [
    "## Statistical tests"
   ]
  },
  {
   "cell_type": "markdown",
   "metadata": {},
   "source": [
    "### Hypothesis 1"
   ]
  },
  {
   "cell_type": "markdown",
   "metadata": {},
   "source": [
    "#### Null Hypothesis: There is no linear correlation between the square feet of a property and the tax value of that property"
   ]
  },
  {
   "cell_type": "markdown",
   "metadata": {},
   "source": [
    "#### Alternative Hypothesis: There is a linear correlation between the square feet of a property and the tax value of that property"
   ]
  },
  {
   "cell_type": "code",
   "execution_count": 33,
   "metadata": {},
   "outputs": [
    {
     "data": {
      "text/plain": [
       "(0.43564309578325583, 0.0)"
      ]
     },
     "execution_count": 33,
     "metadata": {},
     "output_type": "execute_result"
    }
   ],
   "source": [
    "# Running a correlation test between property square feet and property value\n",
    "\n",
    "corr, p = stats.pearsonr(train.taxvaluedollarcnt, train.calculatedfinishedsquarefeet)\n",
    "corr, p"
   ]
  },
  {
   "cell_type": "markdown",
   "metadata": {},
   "source": [
    "#### We reject the null hypothesis that there is no linear relationship between square feet of a property and the tax value of that property."
   ]
  },
  {
   "cell_type": "markdown",
   "metadata": {},
   "source": [
    "A bigger house correlating with a higher value doesn't come as much of a surprise."
   ]
  },
  {
   "cell_type": "markdown",
   "metadata": {},
   "source": [
    "### Hypothesis 2"
   ]
  },
  {
   "cell_type": "markdown",
   "metadata": {},
   "source": [
    "#### Null Hypothesis: There is no difference between Los Angeles county tax rate and the overall average county tax rates"
   ]
  },
  {
   "cell_type": "markdown",
   "metadata": {},
   "source": [
    "#### Alternative Hypothesis:  There is a difference between Los Angeles county tax rate and the overall average county tax rates"
   ]
  },
  {
   "cell_type": "code",
   "execution_count": 34,
   "metadata": {},
   "outputs": [
    {
     "data": {
      "text/plain": [
       "<AxesSubplot:xlabel='tax_rate', ylabel='Density'>"
      ]
     },
     "execution_count": 34,
     "metadata": {},
     "output_type": "execute_result"
    },
    {
     "data": {
      "image/png": "[encoded data removed]",
      "text/plain": [
       "<Figure size 432x288 with 1 Axes>"
      ]
     },
     "metadata": {
      "needs_background": "light"
     },
     "output_type": "display_data"
    }
   ],
   "source": [
    "# Examining shape of LA county tax rates\n",
    "\n",
    "sns.distplot(la_county_tax.tax_rate)"
   ]
  },
  {
   "cell_type": "code",
   "execution_count": 35,
   "metadata": {},
   "outputs": [
    {
     "data": {
      "text/plain": [
       "(1.25, 1.3496060326254111)"
      ]
     },
     "execution_count": 35,
     "metadata": {},
     "output_type": "execute_result"
    }
   ],
   "source": [
    "# Checking difference in median and mean tax rates\n",
    "\n",
    "train.tax_rate.median(), train.tax_rate.mean()"
   ]
  },
  {
   "cell_type": "code",
   "execution_count": 36,
   "metadata": {},
   "outputs": [
    {
     "data": {
      "text/plain": [
       "(13.024833428527987, 1.964452079950286e-38)"
      ]
     },
     "execution_count": 36,
     "metadata": {},
     "output_type": "execute_result"
    }
   ],
   "source": [
    "# T-test between LA tax rate and average tax rate\n",
    "\n",
    "t, p = stats.ttest_1samp(la_county.tax_rate, zillow_no_out.tax_rate.mean())\n",
    "t, p"
   ]
  },
  {
   "cell_type": "markdown",
   "metadata": {},
   "source": [
    "#### We reject the null hypothesis that there is no difference between Los Angeles county tax rate and the overall average county tax rates"
   ]
  },
  {
   "cell_type": "markdown",
   "metadata": {},
   "source": [
    "As could have been guessed by the tax rate histogram, it seems the tax rate in Los Angeles is higher than the average tax rate."
   ]
  },
  {
   "cell_type": "markdown",
   "metadata": {},
   "source": [
    "## Modeling"
   ]
  },
  {
   "cell_type": "markdown",
   "metadata": {},
   "source": [
    "### Prepping again for modeling"
   ]
  },
  {
   "cell_type": "code",
   "execution_count": 37,
   "metadata": {},
   "outputs": [],
   "source": [
    "# Dropping columns related to property value (because that's cheating). Also creating dummies\n",
    "\n",
    "zillow_no_out.drop(columns = ['tax_rate', 'taxamount'], inplace = True)\n",
    "dummies_county = pd.get_dummies(zillow_no_out[['county']], drop_first = True)\n",
    "zillow_no_out.drop(columns = ['county'], inplace = True)\n",
    "zillow_no_out = pd.concat([zillow_no_out, dummies_county], axis=1)"
   ]
  },
  {
   "cell_type": "code",
   "execution_count": 38,
   "metadata": {},
   "outputs": [],
   "source": [
    "# Scaling data so it can be modeled correctly\n",
    "\n",
    "scaler_minmax = sklearn.preprocessing.MinMaxScaler()\n",
    "scaler_minmax.fit(zillow_no_out)\n",
    "zillow_minmax = scaler_minmax.transform(zillow_no_out)\n",
    "zillow_minmax = pd.DataFrame(zillow_minmax)\n",
    "key = zillow_no_out.columns.tolist()\n",
    "zillow_minmax.rename(columns = {i: key[i] for i in range(len(key))} , inplace = True)\n",
    "zillow_minmax.drop(columns = ['taxvaluedollarcnt'], inplace = True)\n",
    "zillow_no_out.index = zillow_minmax.index\n",
    "zillow_minmax['taxvaluedollarcnt'] = zillow['taxvaluedollarcnt']\n",
    "zillow_minmax.dropna(inplace = True)"
   ]
  },
  {
   "cell_type": "code",
   "execution_count": 39,
   "metadata": {},
   "outputs": [],
   "source": [
    "# Splitting into train, test, and validate\n",
    "\n",
    "train, test = train_test_split(zillow_minmax, test_size=.2, random_state=123)\n",
    "train, validate = train_test_split(train, test_size=.3, random_state=123)"
   ]
  },
  {
   "cell_type": "code",
   "execution_count": 40,
   "metadata": {},
   "outputs": [
    {
     "data": {
      "text/html": [
       "<div>\n",
       "<style scoped>\n",
       "    .dataframe tbody tr th:only-of-type {\n",
       "        vertical-align: middle;\n",
       "    }\n",
       "\n",
       "    .dataframe tbody tr th {\n",
       "        vertical-align: top;\n",
       "    }\n",
       "\n",
       "    .dataframe thead th {\n",
       "        text-align: right;\n",
       "    }\n",
       "</style>\n",
       "<table border=\"1\" class=\"dataframe\">\n",
       "  <thead>\n",
       "    <tr style=\"text-align: right;\">\n",
       "      <th></th>\n",
       "      <th>lotsizesquarefeet</th>\n",
       "      <th>calculatedfinishedsquarefeet</th>\n",
       "      <th>bathroomcnt</th>\n",
       "      <th>bedroomcnt</th>\n",
       "      <th>age</th>\n",
       "      <th>county_Orange</th>\n",
       "      <th>county_Ventura</th>\n",
       "      <th>taxvaluedollarcnt</th>\n",
       "    </tr>\n",
       "  </thead>\n",
       "  <tbody>\n",
       "    <tr>\n",
       "      <th>19681</th>\n",
       "      <td>0.407935</td>\n",
       "      <td>0.216007</td>\n",
       "      <td>0.142857</td>\n",
       "      <td>0.333333</td>\n",
       "      <td>0.418301</td>\n",
       "      <td>0.0</td>\n",
       "      <td>0.0</td>\n",
       "      <td>482772.0</td>\n",
       "    </tr>\n",
       "    <tr>\n",
       "      <th>2314</th>\n",
       "      <td>0.283248</td>\n",
       "      <td>0.196407</td>\n",
       "      <td>0.142857</td>\n",
       "      <td>0.222222</td>\n",
       "      <td>0.614379</td>\n",
       "      <td>0.0</td>\n",
       "      <td>0.0</td>\n",
       "      <td>365489.0</td>\n",
       "    </tr>\n",
       "    <tr>\n",
       "      <th>3859</th>\n",
       "      <td>0.411098</td>\n",
       "      <td>0.185586</td>\n",
       "      <td>0.142857</td>\n",
       "      <td>0.222222</td>\n",
       "      <td>0.431373</td>\n",
       "      <td>0.0</td>\n",
       "      <td>0.0</td>\n",
       "      <td>69677.0</td>\n",
       "    </tr>\n",
       "    <tr>\n",
       "      <th>8000</th>\n",
       "      <td>0.394886</td>\n",
       "      <td>0.366680</td>\n",
       "      <td>0.285714</td>\n",
       "      <td>0.333333</td>\n",
       "      <td>0.294118</td>\n",
       "      <td>0.0</td>\n",
       "      <td>0.0</td>\n",
       "      <td>798000.0</td>\n",
       "    </tr>\n",
       "    <tr>\n",
       "      <th>21426</th>\n",
       "      <td>0.652959</td>\n",
       "      <td>0.426296</td>\n",
       "      <td>0.428571</td>\n",
       "      <td>0.444444</td>\n",
       "      <td>0.333333</td>\n",
       "      <td>1.0</td>\n",
       "      <td>0.0</td>\n",
       "      <td>38374.0</td>\n",
       "    </tr>\n",
       "  </tbody>\n",
       "</table>\n",
       "</div>"
      ],
      "text/plain": [
       "       lotsizesquarefeet  calculatedfinishedsquarefeet  bathroomcnt  \\\n",
       "19681           0.407935                      0.216007     0.142857   \n",
       "2314            0.283248                      0.196407     0.142857   \n",
       "3859            0.411098                      0.185586     0.142857   \n",
       "8000            0.394886                      0.366680     0.285714   \n",
       "21426           0.652959                      0.426296     0.428571   \n",
       "\n",
       "       bedroomcnt       age  county_Orange  county_Ventura  taxvaluedollarcnt  \n",
       "19681    0.333333  0.418301            0.0             0.0           482772.0  \n",
       "2314     0.222222  0.614379            0.0             0.0           365489.0  \n",
       "3859     0.222222  0.431373            0.0             0.0            69677.0  \n",
       "8000     0.333333  0.294118            0.0             0.0           798000.0  \n",
       "21426    0.444444  0.333333            1.0             0.0            38374.0  "
      ]
     },
     "execution_count": 40,
     "metadata": {},
     "output_type": "execute_result"
    }
   ],
   "source": [
    "train.head()"
   ]
  },
  {
   "cell_type": "code",
   "execution_count": 41,
   "metadata": {},
   "outputs": [],
   "source": [
    "x_train = train.drop(columns = ['taxvaluedollarcnt'])\n",
    "y_train = train['taxvaluedollarcnt']\n",
    "\n",
    "x_validate = validate.drop(columns = ['taxvaluedollarcnt'])\n",
    "y_validate = validate['taxvaluedollarcnt']\n",
    "\n",
    "x_test = test.drop(columns = ['taxvaluedollarcnt'])\n",
    "y_test = test['taxvaluedollarcnt']"
   ]
  },
  {
   "cell_type": "markdown",
   "metadata": {},
   "source": [
    "### Establishing a baseline"
   ]
  },
  {
   "cell_type": "code",
   "execution_count": 42,
   "metadata": {},
   "outputs": [
    {
     "name": "stdout",
     "output_type": "stream",
     "text": [
      "RMSE using Mean\n",
      "Train/In-Sample:  609536.68 \n",
      "Validate/Out-of-Sample:  588634.66\n",
      "RMSE using Median\n",
      "Train/In-Sample:  623551.13 \n",
      "Validate/Out-of-Sample:  602831.5\n"
     ]
    }
   ],
   "source": [
    "# Using average and median to predict property values to establish a baseline for my models\n",
    "\n",
    "y_train = pd.DataFrame(y_train)\n",
    "y_validate = pd.DataFrame(y_validate)\n",
    "\n",
    "# Establishing mean\n",
    "zillow_pred_mean = y_train['taxvaluedollarcnt'].mean()\n",
    "y_train['zillow_pred_mean'] = zillow_pred_mean\n",
    "y_validate['zillow_pred_mean'] = zillow_pred_mean\n",
    "\n",
    "# Establishing median\n",
    "zillow_pred_median = y_train['taxvaluedollarcnt'].median()\n",
    "y_train['zillow_pred_median'] = zillow_pred_median\n",
    "y_validate['zillow_pred_median'] = zillow_pred_median\n",
    "\n",
    "# RMSE of mean\n",
    "rmse_train = mean_squared_error(y_train.taxvaluedollarcnt, y_train.zillow_pred_mean)**(1/2)\n",
    "rmse_validate = mean_squared_error(y_validate.taxvaluedollarcnt, y_validate.zillow_pred_mean)**(1/2)\n",
    "\n",
    "print(\"RMSE using Mean\\nTrain/In-Sample: \", round(rmse_train, 2), \n",
    "      \"\\nValidate/Out-of-Sample: \", round(rmse_validate, 2))\n",
    "\n",
    "# 4. RMSE of median\n",
    "rmse_train = mean_squared_error(y_train.taxvaluedollarcnt, y_train.zillow_pred_median)**(1/2)\n",
    "rmse_validate = mean_squared_error(y_validate.taxvaluedollarcnt, y_validate.zillow_pred_median)**(1/2)\n",
    "\n",
    "print(\"RMSE using Median\\nTrain/In-Sample: \", round(rmse_train, 2), \n",
    "      \"\\nValidate/Out-of-Sample: \", round(rmse_validate, 2))"
   ]
  },
  {
   "cell_type": "markdown",
   "metadata": {},
   "source": [
    "### Linear Regression"
   ]
  },
  {
   "cell_type": "code",
   "execution_count": 43,
   "metadata": {},
   "outputs": [
    {
     "name": "stdout",
     "output_type": "stream",
     "text": [
      "RMSE for OLS using LinearRegression\n",
      "Training/In-Sample:  608464.47 \n",
      "Validation/Out-of-Sample:  587222.09\n"
     ]
    }
   ],
   "source": [
    "lin_reg = LinearRegression(normalize = True)\n",
    "lin_reg.fit(x_train, y_train['taxvaluedollarcnt'])\n",
    "y_train['value_pred_lm'] = lin_reg.predict(x_train)\n",
    "rmse_train = mean_squared_error(y_train['taxvaluedollarcnt'], y_train.value_pred_lm)**(1/2)\n",
    "y_validate['value_pred_lm'] = lin_reg.predict(x_validate)\n",
    "rmse_validate = mean_squared_error(y_validate['taxvaluedollarcnt'], y_validate.value_pred_lm)**(1/2)\n",
    "print(\"RMSE for OLS using LinearRegression\\nTraining/In-Sample: \", round(rmse_train, 2), \n",
    "      \"\\nValidation/Out-of-Sample: \", round(rmse_validate, 2))"
   ]
  },
  {
   "cell_type": "markdown",
   "metadata": {},
   "source": [
    "### LassoLars"
   ]
  },
  {
   "cell_type": "code",
   "execution_count": 44,
   "metadata": {},
   "outputs": [
    {
     "name": "stdout",
     "output_type": "stream",
     "text": [
      "RMSE for Lasso + Lars\n",
      "Training/In-Sample:  608464.57 \n",
      "Validation/Out-of-Sample:  587222.7\n"
     ]
    }
   ],
   "source": [
    "lars = LassoLars(alpha=1.0)\n",
    "lars.fit(x_train, y_train['taxvaluedollarcnt'])\n",
    "y_train['value_pred_lars'] = lars.predict(x_train)\n",
    "rmse_train = mean_squared_error(y_train['taxvaluedollarcnt'], y_train.value_pred_lars)**(1/2)\n",
    "y_validate['value_pred_lars'] = lars.predict(x_validate)\n",
    "rmse_validate = mean_squared_error(y_validate['taxvaluedollarcnt'], y_validate.value_pred_lars)**(1/2)\n",
    "print(\"RMSE for Lasso + Lars\\nTraining/In-Sample: \", round(rmse_train, 2), \n",
    "      \"\\nValidation/Out-of-Sample: \", round(rmse_validate, 2))"
   ]
  },
  {
   "cell_type": "markdown",
   "metadata": {},
   "source": [
    "### TweedieRegressor(GLM)"
   ]
  },
  {
   "cell_type": "code",
   "execution_count": 45,
   "metadata": {},
   "outputs": [
    {
     "name": "stdout",
     "output_type": "stream",
     "text": [
      "RMSE for Tweedie Regressor\n",
      "Training/In-Sample:  608465.3 \n",
      "Validation/Out-of-Sample:  587254.69\n"
     ]
    }
   ],
   "source": [
    "glm = TweedieRegressor(power=1, alpha=0)\n",
    "glm.fit(x_train, y_train['taxvaluedollarcnt'])\n",
    "y_train['value_pred_glm'] = glm.predict(x_train)\n",
    "rmse_train = mean_squared_error(y_train['taxvaluedollarcnt'], y_train.value_pred_glm)**(1/2)\n",
    "y_validate['value_pred_glm'] = glm.predict(x_validate)\n",
    "rmse_validate = mean_squared_error(y_validate['taxvaluedollarcnt'], y_validate.value_pred_glm)**(1/2)\n",
    "print(\"RMSE for Tweedie Regressor\\nTraining/In-Sample: \", round(rmse_train, 2), \n",
    "      \"\\nValidation/Out-of-Sample: \", round(rmse_validate, 2))"
   ]
  },
  {
   "cell_type": "markdown",
   "metadata": {},
   "source": [
    "### Polynomial Regression"
   ]
  },
  {
   "cell_type": "code",
   "execution_count": 46,
   "metadata": {},
   "outputs": [],
   "source": [
    "pf = PolynomialFeatures(degree=2)\n",
    "x_train_degree2 = pf.fit_transform(x_train)\n",
    "x_validate_degree2 = pf.transform(x_validate)"
   ]
  },
  {
   "cell_type": "code",
   "execution_count": 47,
   "metadata": {},
   "outputs": [
    {
     "name": "stdout",
     "output_type": "stream",
     "text": [
      "RMSE for Polynomial Model, degrees=2\n",
      "Training/In-Sample:  607336.8 \n",
      "Validation/Out-of-Sample:  587003.46\n"
     ]
    }
   ],
   "source": [
    "lm2 = LinearRegression(normalize=True)\n",
    "lm2.fit(x_train_degree2, y_train['taxvaluedollarcnt'])\n",
    "y_train['value_pred_lm2'] = lm2.predict(x_train_degree2)\n",
    "rmse_train = mean_squared_error(y_train['taxvaluedollarcnt'], y_train.value_pred_lm2)**(1/2)\n",
    "y_validate['value_pred_lm2'] = lm2.predict(x_validate_degree2)\n",
    "rmse_validate = mean_squared_error(y_validate['taxvaluedollarcnt'], y_validate.value_pred_lm2)**(1/2)\n",
    "print(\"RMSE for Polynomial Model, degrees=2\\nTraining/In-Sample: \", round(rmse_train, 2), \n",
    "      \"\\nValidation/Out-of-Sample: \", round(rmse_validate, 2))"
   ]
  },
  {
   "cell_type": "markdown",
   "metadata": {},
   "source": [
    "## Feature Engineering"
   ]
  },
  {
   "cell_type": "markdown",
   "metadata": {},
   "source": [
    "### SelectKBest"
   ]
  },
  {
   "cell_type": "code",
   "execution_count": 48,
   "metadata": {},
   "outputs": [
    {
     "data": {
      "text/plain": [
       "['bathroomcnt', 'age', 'county_Orange', 'county_Ventura']"
      ]
     },
     "execution_count": 48,
     "metadata": {},
     "output_type": "execute_result"
    }
   ],
   "source": [
    "f_selector = SelectKBest(f_regression, k=4)\n",
    "f_selector.fit(zillow_minmax.drop(columns = ['taxvaluedollarcnt']), zillow_minmax['taxvaluedollarcnt'])\n",
    "feature_mask = f_selector.get_support()\n",
    "f_feature = zillow_minmax.drop(columns = ['taxvaluedollarcnt']).iloc[:,feature_mask].columns.tolist()\n",
    "f_feature"
   ]
  },
  {
   "cell_type": "markdown",
   "metadata": {},
   "source": [
    "### Recursive Feature Elimination"
   ]
  },
  {
   "cell_type": "code",
   "execution_count": 49,
   "metadata": {},
   "outputs": [
    {
     "data": {
      "text/plain": [
       "['bathroomcnt', 'bedroomcnt', 'age', 'county_Ventura']"
      ]
     },
     "execution_count": 49,
     "metadata": {},
     "output_type": "execute_result"
    }
   ],
   "source": [
    "lm = LinearRegression()\n",
    "rfe = RFE(lm, 4)\n",
    "rfe.fit(zillow_minmax.drop(columns = ['taxvaluedollarcnt']), zillow_minmax['taxvaluedollarcnt'])\n",
    "feature_mask_rfe = rfe.support_\n",
    "rfe_feature = zillow_minmax.drop(columns = ['taxvaluedollarcnt']).iloc[:,feature_mask_rfe].columns.tolist()\n",
    "rfe_feature"
   ]
  },
  {
   "cell_type": "markdown",
   "metadata": {},
   "source": [
    "# Test"
   ]
  },
  {
   "cell_type": "code",
   "execution_count": 50,
   "metadata": {},
   "outputs": [
    {
     "name": "stdout",
     "output_type": "stream",
     "text": [
      "RMSE for Tweedie Regressor\n",
      "Test:  591178.74\n"
     ]
    }
   ],
   "source": [
    "# Since Polynomial Regression was my most successful model at predicting out of sample data, I'm going to use that \n",
    "# model on my test data\n",
    "x_test_degree2 = pf.transform(x_test)\n",
    "y_test = pd.DataFrame(y_test)\n",
    "y_test['test_value_pred_lm2'] = lm2.predict(x_test_degree2)\n",
    "rmse_test = mean_squared_error(y_test['taxvaluedollarcnt'], y_test.test_value_pred_lm2)**(1/2)\n",
    "\n",
    "print(\"RMSE for Tweedie Regressor\\nTest: \", round(rmse_test, 2))"
   ]
  },
  {
   "cell_type": "markdown",
   "metadata": {},
   "source": [
    "# Data Dictionary"
   ]
  },
  {
   "cell_type": "code",
   "execution_count": 51,
   "metadata": {},
   "outputs": [],
   "source": [
    "data_dictionary = pd.DataFrame(index = zillow.columns, columns=['type', 'description'])\n",
    "for name in zillow_no_out.columns:\n",
    "    data_dictionary.loc[name,'type'] = 'float64'"
   ]
  },
  {
   "cell_type": "code",
   "execution_count": 52,
   "metadata": {},
   "outputs": [],
   "source": [
    "data_dictionary.loc[['county'], 'type'] = 'object'"
   ]
  },
  {
   "cell_type": "code",
   "execution_count": 53,
   "metadata": {},
   "outputs": [],
   "source": [
    "data_dictionary.loc[['taxamount'], 'description'] = 'The annual taxes charged for the property'\n",
    "data_dictionary.loc[['lotsizesquarefeet'], 'description'] = 'The total square feet of the lot the property is on'\n",
    "data_dictionary.loc[['county'], 'description'] = 'The county the property is located in'\n",
    "data_dictionary.loc[['taxvaluedollarcnt'], 'description'] = 'The total tax assessed value of the property'\n",
    "data_dictionary.loc[['calculatedfinishedsquarefeet'], 'description'] = 'The total square feet of the developed property'\n",
    "data_dictionary.loc[['bathroomcnt'], 'description'] = 'The number of bathrooms in the property'\n",
    "data_dictionary.loc[['bedroomcnt'], 'description'] = 'The number of bedrroms in the property'\n",
    "data_dictionary.loc[['age'], 'description'] = 'The age of the developed property'\n",
    "data_dictionary.loc[['tax_rate'], 'description'] = 'The percentage of annual taxes to total tax assessed value of the property'"
   ]
  },
  {
   "cell_type": "code",
   "execution_count": 54,
   "metadata": {},
   "outputs": [
    {
     "name": "stdout",
     "output_type": "stream",
     "text": [
      "|                              | type    | description                                                                |\n",
      "|:-----------------------------|:--------|:---------------------------------------------------------------------------|\n",
      "| taxamount                    | nan     | The annual taxes charged for the property                                  |\n",
      "| lotsizesquarefeet            | float64 | The total square feet of the lot the property is on                        |\n",
      "| county                       | object  | The county the property is located in                                      |\n",
      "| taxvaluedollarcnt            | float64 | The total tax assessed value of the property                               |\n",
      "| calculatedfinishedsquarefeet | float64 | The total square feet of the developed property                            |\n",
      "| bathroomcnt                  | float64 | The number of bathrooms in the property                                    |\n",
      "| bedroomcnt                   | float64 | The number of bedrroms in the property                                     |\n",
      "| age                          | float64 | The age of the developed property                                          |\n",
      "| tax_rate                     | nan     | The percentage of annual taxes to total tax assessed value of the property |\n",
      "| county_Orange                | float64 | nan                                                                        |\n",
      "| county_Ventura               | float64 | nan                                                                        |\n"
     ]
    }
   ],
   "source": [
    "print(data_dictionary.to_markdown())"
   ]
  },
  {
   "cell_type": "code",
   "execution_count": 55,
   "metadata": {},
   "outputs": [],
   "source": [
    "#Q1 = zillow_no_out['tax_rate'].quantile(0.25)\n",
    "#Q3 = zillow_no_out['tax_rate'].quantile(0.75)\n",
    "#IQR = Q3 - Q1\n",
    "#zillow_no_out = zillow_no_out[(zillow_no_out.tax_rate < (Q3 + IQR)) & (zillow_no_out.tax_rate > (Q1 - IQR))]"
   ]
  },
  {
   "cell_type": "code",
   "execution_count": null,
   "metadata": {},
   "outputs": [],
   "source": []
  }
 ],
 "metadata": {
  "kernelspec": {
   "display_name": "Python 3",
   "language": "python",
   "name": "python3"
  },
  "language_info": {
   "codemirror_mode": {
    "name": "ipython",
    "version": 3
   },
   "file_extension": ".py",
   "mimetype": "text/x-python",
   "name": "python",
   "nbconvert_exporter": "python",
   "pygments_lexer": "ipython3",
   "version": "3.8.5"
  }
 },
 "nbformat": 4,
 "nbformat_minor": 4
}
